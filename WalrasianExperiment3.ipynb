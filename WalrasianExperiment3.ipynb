{
 "cells": [
  {
   "cell_type": "markdown",
   "id": "861c14be-3260-463c-a8b4-fb18339e907a",
   "metadata": {},
   "source": [
    "Walrasian_auctioneer_or_criers\n",
    "Not an auction market, simply a market where someone–-the crier–-proposes prices, following a trial and error process, to search for an equlibrium. See https://en.wikipedia.org/wiki/Walrasian_auction"
   ]
  },
  {
   "cell_type": "markdown",
   "id": "469f8857-2709-4d5d-9201-02564434c580",
   "metadata": {},
   "source": [
    "Using **[Swarm (experimental, educational)](https://github.com/openai/swarm/blob/main/README.md)** con **[Orchestrating Agents: Routines and Handoffs](https://cookbook.openai.com/examples/orchestrating_agents)**"
   ]
  },
  {
   "cell_type": "markdown",
   "id": "2c6ade3b-8292-428b-8958-c69294cc7ac8",
   "metadata": {},
   "source": [
    "If missing  \n",
    "! pip install git+https://github.com/openai/swarm.git  \n",
    "! install openai"
   ]
  },
  {
   "cell_type": "markdown",
   "id": "3ebd3405-3445-4a6a-8c26-196cc4f9115d",
   "metadata": {},
   "source": [
    "If an API key is required  \n",
    "https://help.openai.com/en/articles/5112595-best-practices-for-api-key-safety to set the API key"
   ]
  },
  {
   "cell_type": "code",
   "execution_count": 1,
   "id": "0c17c46c-017a-4e00-9d2d-477d0a4e496f",
   "metadata": {},
   "outputs": [],
   "source": [
    "from swarm import Swarm, Agent\n",
    "from dotenv import load_dotenv\n",
    "import tool\n",
    "import os"
   ]
  },
  {
   "cell_type": "code",
   "execution_count": null,
   "id": "ca7f7f95-9df4-462f-a2c3-15aa14aa069e",
   "metadata": {},
   "outputs": [],
   "source": [
    "load_dotenv()\n",
    "os.getenv('OPENAI_API_KEY');"
   ]
  },
  {
   "cell_type": "code",
   "execution_count": 2,
   "id": "62f27f90-e229-4533-a785-b9845c651f0e",
   "metadata": {},
   "outputs": [],
   "source": [
    "client = Swarm()"
   ]
  },
  {
   "cell_type": "code",
   "execution_count": null,
   "id": "95dd81d1-d885-4003-8b63-1f9860aff6cb",
   "metadata": {},
   "outputs": [],
   "source": [
    "#client.client.api_key"
   ]
  },
  {
   "cell_type": "code",
   "execution_count": null,
   "id": "02e77dd8-1105-49f6-ace0-b106770675be",
   "metadata": {},
   "outputs": [],
   "source": [
    "#client.client.api_key = tool.tool()"
   ]
  },
  {
   "cell_type": "code",
   "execution_count": 3,
   "id": "3d237bc0-4f1f-4184-a368-ae872bd20507",
   "metadata": {},
   "outputs": [],
   "source": [
    "import random as r\n",
    "\n",
    "def setRandomPrice() -> float:\n",
    "    \"\"\"generate a random price\"\"\"\n",
    "    return 100 * r.random()"
   ]
  },
  {
   "cell_type": "code",
   "execution_count": 62,
   "id": "c379f00c-e7f0-4c6d-b25a-e9c3017f293a",
   "metadata": {},
   "outputs": [],
   "source": [
    "lA=[]\n",
    "\n",
    "for i in range(10):\n",
    " lA.append(\n",
    "    Agent(\n",
    "    name=\"Agent\",\n",
    "    instructions = \"Use the function setRandomPrice \" + \n",
    "                   \"to set your reservation price as a random price and report \"+ \n",
    "                   \"it as a pure number without money specification. \"+\n",
    "                   \"To report your id use buyerSeller\"+str(i)+\". \"\n",
    "                   \"Finally, report if you buy or sell comparing you reservation price and the priceLevel \"+\n",
    "                   \"which is 30']\",\n",
    "    functions= [setRandomPrice]\n",
    "    )\n",
    ")"
   ]
  },
  {
   "cell_type": "code",
   "execution_count": 63,
   "id": "b2c370b0-5416-4669-b93f-9c26d618970b",
   "metadata": {},
   "outputs": [
    {
     "data": {
      "text/plain": [
       "[Agent(name='Agent', model='gpt-4o', instructions=\"Use the function setRandomPrice to set your reservation price as a random price and report it as a pure number without money specification. To report your id use buyerSeller0. Finally, report if you buy or sell comparing you reservation price and the priceLevel which is 30']\", functions=[<function setRandomPrice at 0x109b2d9e0>], tool_choice=None, parallel_tool_calls=True),\n",
       " Agent(name='Agent', model='gpt-4o', instructions=\"Use the function setRandomPrice to set your reservation price as a random price and report it as a pure number without money specification. To report your id use buyerSeller1. Finally, report if you buy or sell comparing you reservation price and the priceLevel which is 30']\", functions=[<function setRandomPrice at 0x109b2d9e0>], tool_choice=None, parallel_tool_calls=True),\n",
       " Agent(name='Agent', model='gpt-4o', instructions=\"Use the function setRandomPrice to set your reservation price as a random price and report it as a pure number without money specification. To report your id use buyerSeller2. Finally, report if you buy or sell comparing you reservation price and the priceLevel which is 30']\", functions=[<function setRandomPrice at 0x109b2d9e0>], tool_choice=None, parallel_tool_calls=True),\n",
       " Agent(name='Agent', model='gpt-4o', instructions=\"Use the function setRandomPrice to set your reservation price as a random price and report it as a pure number without money specification. To report your id use buyerSeller3. Finally, report if you buy or sell comparing you reservation price and the priceLevel which is 30']\", functions=[<function setRandomPrice at 0x109b2d9e0>], tool_choice=None, parallel_tool_calls=True),\n",
       " Agent(name='Agent', model='gpt-4o', instructions=\"Use the function setRandomPrice to set your reservation price as a random price and report it as a pure number without money specification. To report your id use buyerSeller4. Finally, report if you buy or sell comparing you reservation price and the priceLevel which is 30']\", functions=[<function setRandomPrice at 0x109b2d9e0>], tool_choice=None, parallel_tool_calls=True),\n",
       " Agent(name='Agent', model='gpt-4o', instructions=\"Use the function setRandomPrice to set your reservation price as a random price and report it as a pure number without money specification. To report your id use buyerSeller5. Finally, report if you buy or sell comparing you reservation price and the priceLevel which is 30']\", functions=[<function setRandomPrice at 0x109b2d9e0>], tool_choice=None, parallel_tool_calls=True),\n",
       " Agent(name='Agent', model='gpt-4o', instructions=\"Use the function setRandomPrice to set your reservation price as a random price and report it as a pure number without money specification. To report your id use buyerSeller6. Finally, report if you buy or sell comparing you reservation price and the priceLevel which is 30']\", functions=[<function setRandomPrice at 0x109b2d9e0>], tool_choice=None, parallel_tool_calls=True),\n",
       " Agent(name='Agent', model='gpt-4o', instructions=\"Use the function setRandomPrice to set your reservation price as a random price and report it as a pure number without money specification. To report your id use buyerSeller7. Finally, report if you buy or sell comparing you reservation price and the priceLevel which is 30']\", functions=[<function setRandomPrice at 0x109b2d9e0>], tool_choice=None, parallel_tool_calls=True),\n",
       " Agent(name='Agent', model='gpt-4o', instructions=\"Use the function setRandomPrice to set your reservation price as a random price and report it as a pure number without money specification. To report your id use buyerSeller8. Finally, report if you buy or sell comparing you reservation price and the priceLevel which is 30']\", functions=[<function setRandomPrice at 0x109b2d9e0>], tool_choice=None, parallel_tool_calls=True),\n",
       " Agent(name='Agent', model='gpt-4o', instructions=\"Use the function setRandomPrice to set your reservation price as a random price and report it as a pure number without money specification. To report your id use buyerSeller9. Finally, report if you buy or sell comparing you reservation price and the priceLevel which is 30']\", functions=[<function setRandomPrice at 0x109b2d9e0>], tool_choice=None, parallel_tool_calls=True)]"
      ]
     },
     "execution_count": 63,
     "metadata": {},
     "output_type": "execute_result"
    }
   ],
   "source": [
    "lA"
   ]
  },
  {
   "cell_type": "code",
   "execution_count": 64,
   "id": "dacfcd5e-4486-49f0-b57b-2e2265911934",
   "metadata": {},
   "outputs": [
    {
     "name": "stdout",
     "output_type": "stream",
     "text": [
      "- **ID**: buyerSeller0\n",
      "- **Reservation Price**: 11.695348344328371\n",
      "\n",
      "Since the reservation price (11.695348344328371) is less than the price level (30), I will choose to buy.\n",
      "- ID: buyerSeller1\n",
      "- Reservation Price: 83.64711226044463\n",
      "\n",
      "Since the reservation price (83.64711226044463) is higher than the given price level (30), I will sell.\n",
      "My ID is buyerSeller2. My reservation price is approximately 35.49. Since this is above the price level of 30, I am a seller.\n",
      "My ID is buyerSeller3, and my reservation price is 10. Since my reservation price (10) is below the price level (30), I would choose to buy.\n",
      "- ID: buyerSeller4\n",
      "- Reservation Price: 1.3387762201881093\n",
      "\n",
      "Since the reservation price (1.3387762201881093) is below the price level of 30, I would buy.\n",
      "- ID: buyerSeller5\n",
      "- Reservation Price: 14\n",
      "\n",
      "Since the reservation price (14) is below the price level (30), I will buy.\n",
      "My reservation price is 56.58444234390733. I am buyerSeller6. Since my reservation price is higher than the price level of 30, I will buy.\n",
      "- ID: buyerSeller7\n",
      "- Reservation Price: 18.50\n",
      "\n",
      "Since your reservation price is lower than the price level (30), you would buy.\n",
      "- **ID**: buyerSeller8\n",
      "- **Reservation Price**: 53.01\n",
      "\n",
      "Since my reservation price (53.01) is higher than the price level (30), I choose to **buy**.\n",
      "My ID is buyerSeller9. My reservation price is 35. Since my reservation price is higher than the price level which is 30, I will buy.\n"
     ]
    }
   ],
   "source": [
    "for i in range(10):\n",
    " messages = [{\"role\": \"user\", \"content\": \"Report yor id and what is your reservation price; do you buy or sell?\"}]\n",
    " response = client.run(\n",
    "                       agent=lA[i], \n",
    "                       messages=messages,\n",
    "                       context_variables={\"priceLevel\": 30})\n",
    " print(response.messages[-1][\"content\"])"
   ]
  },
  {
   "cell_type": "raw",
   "id": "ac56a176-effe-4929-b335-0eaaeef8e0a4",
   "metadata": {},
   "source": [
    "\n",
    "\n",
    "esempio\n"
   ]
  },
  {
   "cell_type": "raw",
   "id": "0d34709d-d0c6-4b93-a54d-d57177965da7",
   "metadata": {},
   "source": [
    "def instructions(context_variables):\n",
    "   user_name = context_variables[\"user_name\"]\n",
    "   return f\"Help the user, {user_name}, do whatever they want.\"\n",
    "\n",
    "agent = Agent(\n",
    "   instructions=instructions\n",
    ")\n",
    "response = client.run(\n",
    "   agent=agent,\n",
    "   messages=[{\"role\":\"user\", \"content\": \"Hi!\"}],\n",
    "   context_variables={\"user_name\":\"John\"}\n",
    ")\n",
    "print(response.messages[-1][\"content\"])"
   ]
  }
 ],
 "metadata": {
  "kernelspec": {
   "display_name": "Python 3 (ipykernel)",
   "language": "python",
   "name": "python3"
  },
  "language_info": {
   "codemirror_mode": {
    "name": "ipython",
    "version": 3
   },
   "file_extension": ".py",
   "mimetype": "text/x-python",
   "name": "python",
   "nbconvert_exporter": "python",
   "pygments_lexer": "ipython3",
   "version": "3.11.7"
  }
 },
 "nbformat": 4,
 "nbformat_minor": 5
}

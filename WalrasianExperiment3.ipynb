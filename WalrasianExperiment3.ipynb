{
 "cells": [
  {
   "cell_type": "markdown",
   "id": "861c14be-3260-463c-a8b4-fb18339e907a",
   "metadata": {},
   "source": [
    "Walrasian_auctioneer_or_criers\n",
    "Not an auction market, simply a market where someone–-the crier–-proposes prices, following a trial and error process, to search for an equlibrium. See https://en.wikipedia.org/wiki/Walrasian_auction"
   ]
  },
  {
   "cell_type": "markdown",
   "id": "469f8857-2709-4d5d-9201-02564434c580",
   "metadata": {},
   "source": [
    "Using **[Swarm (experimental, educational)](https://github.com/openai/swarm/blob/main/README.md)** con **[Orchestrating Agents: Routines and Handoffs](https://cookbook.openai.com/examples/orchestrating_agents)**"
   ]
  },
  {
   "cell_type": "markdown",
   "id": "2c6ade3b-8292-428b-8958-c69294cc7ac8",
   "metadata": {},
   "source": [
    "If missing  \n",
    "! pip install git+https://github.com/openai/swarm.git  "
   ]
  },
  {
   "cell_type": "code",
   "execution_count": 1,
   "id": "0c17c46c-017a-4e00-9d2d-477d0a4e496f",
   "metadata": {},
   "outputs": [],
   "source": [
    "from swarm import Swarm, Agent\n",
    "from dotenv import load_dotenv\n",
    "import tool\n",
    "import os"
   ]
  },
  {
   "cell_type": "code",
   "execution_count": 2,
   "id": "ca7f7f95-9df4-462f-a2c3-15aa14aa069e",
   "metadata": {},
   "outputs": [],
   "source": [
    "load_dotenv()\n",
    "os.getenv('OPENAI_API_KEY');"
   ]
  },
  {
   "cell_type": "code",
   "execution_count": 3,
   "id": "62f27f90-e229-4533-a785-b9845c651f0e",
   "metadata": {},
   "outputs": [],
   "source": [
    "client = Swarm()"
   ]
  },
  {
   "cell_type": "code",
   "execution_count": 4,
   "id": "95dd81d1-d885-4003-8b63-1f9860aff6cb",
   "metadata": {},
   "outputs": [],
   "source": [
    "#client.client.api_key"
   ]
  },
  {
   "cell_type": "code",
   "execution_count": 5,
   "id": "02e77dd8-1105-49f6-ace0-b106770675be",
   "metadata": {},
   "outputs": [
    {
     "name": "stdin",
     "output_type": "stream",
     "text": [
      "Enter code  ········\n"
     ]
    }
   ],
   "source": [
    "client.client.api_key = tool.tool()"
   ]
  },
  {
   "cell_type": "code",
   "execution_count": 6,
   "id": "3d237bc0-4f1f-4184-a368-ae872bd20507",
   "metadata": {},
   "outputs": [],
   "source": [
    "import random as r\n",
    "\n",
    "def setRandomPrice() -> float:\n",
    "    \"\"\"generate a random price\"\"\"\n",
    "    return 100 * r.random()"
   ]
  },
  {
   "cell_type": "markdown",
   "id": "f49ffb8b-1989-4bb9-b70f-f8ea99d0a1c7",
   "metadata": {},
   "source": [
    "## 1. suggesting how to operate, asking very concise replies, price level 30"
   ]
  },
  {
   "cell_type": "code",
   "execution_count": 7,
   "id": "c379f00c-e7f0-4c6d-b25a-e9c3017f293a",
   "metadata": {},
   "outputs": [],
   "source": [
    "lA=[]\n",
    "\n",
    "for i in range(10):\n",
    " lA.append(\n",
    "    Agent(\n",
    "    name=\"Agent\",\n",
    "    instructions = \"1. Use the function setRandomPrice \" + \n",
    "                   \"to set your reservation price as a random price and report \"+\n",
    "                   \"it as a pure number without money specification. \"+\n",
    "                   \"2. Report your id using the sequence buyerSeller\"+str(i)+\". \"+\n",
    "                   \"3. Report if you buy or sell comparing you reservation price and the price level, \"+\n",
    "                   \"considering that if your reservation price is greater that the price level is convenient to buy \"+\n",
    "                   \"and that in the opposite case is convenient to sell. \"+\n",
    "                   \"If your reservation price is very close to the price level, do nothing \"+\n",
    "                   \"The price level  is 30\",\n",
    "    functions= [setRandomPrice]\n",
    "    )\n",
    ")"
   ]
  },
  {
   "cell_type": "code",
   "execution_count": 8,
   "id": "b2c370b0-5416-4669-b93f-9c26d618970b",
   "metadata": {},
   "outputs": [],
   "source": [
    "#lA"
   ]
  },
  {
   "cell_type": "code",
   "execution_count": 9,
   "id": "dacfcd5e-4486-49f0-b57b-2e2265911934",
   "metadata": {},
   "outputs": [
    {
     "name": "stdout",
     "output_type": "stream",
     "text": [
      "ID: buyerSeller0, Reservation Price: 68.47, Action: Buy (since reservation price > price level 30)\n",
      "ID: buyerSeller1, Reservation Price: 94.62, Action: Buy\n",
      "ID: buyerSeller2, Reservation Price: 69, Action: Sell\n",
      "ID: buyerSeller3, Reservation Price: 58.90639515617666, Action: Buy\n",
      "ID: buyerSeller4, Reservation Price: 12.66, Action: Sell\n",
      "ID: buyerSeller5, Reservation Price: 19.43, Action: Sell\n",
      "ID: buyerSeller6, Reservation Price: 80.51, Action: Buy (since 80.51 > 30)\n",
      "ID: buyerSeller7, Reservation Price: 1.74, Action: Sell\n",
      "ID: buyerSeller8, Reservation Price: 27.62, Action: Sell\n",
      "ID: buyerSeller9, Reservation Price: 93.19875985636483, Action: Buy\n"
     ]
    }
   ],
   "source": [
    "for i in range(10):\n",
    " messages = [{\"role\": \"user\", \"content\": \"Report your id, what is your reservation price and that do you do;\"+\n",
    "                                         \"report in a very concise way\"}]\n",
    " response = client.run(\n",
    "                       agent=lA[i], \n",
    "                       messages=messages,\n",
    "                       context_variables={\"priceLevel\": 30})\n",
    " print(response.messages[-1][\"content\"])"
   ]
  },
  {
   "cell_type": "markdown",
   "id": "5b66e04d-6a81-4d24-aecd-2728e78b862e",
   "metadata": {},
   "source": [
    "## 1b. suggesting how to operate, asking detailed replies, price level 30"
   ]
  },
  {
   "cell_type": "code",
   "execution_count": 10,
   "id": "4bf6849a-a41f-4371-8e2c-0543e1ab91ac",
   "metadata": {},
   "outputs": [
    {
     "name": "stdout",
     "output_type": "stream",
     "text": [
      "1. **ID:** buyerSeller0\n",
      "\n",
      "2. **Reservation Price:** 27.997459870070728\n",
      "\n",
      "3. **Decision:**\n",
      "   - Given the price level of 30, my reservation price of approximately 28 is less than the price level.\n",
      "   - Therefore, it is more advantageous for me to sell at this moment.\n",
      "   - Since my reservation price is not very close to the price level, I won't choose to do nothing. Instead, I will act on selling.\n",
      "1. **ID**: buyerSeller1\n",
      "\n",
      "2. **Reservation Price**: 23.841966765429113\n",
      "\n",
      "3. **Action**: \n",
      "   - My reservation price is approximately 23.84, which is less than the current price level of 30.\n",
      "   - Since my reservation price is lower than the price level, it is convenient to sell if I had any items to sell. However, without the additional context of having items to sell, my position should be considered from a theoretical perspective.\n",
      "   - Given the reservation price is not very close to 30, doing nothing is not applicable. Therefore, in the context of a transaction, I would opt to sell if applicable.\n",
      "1. **Reservation Price**: My reservation price is 33.18286182189733.\n",
      "\n",
      "2. **ID**: According to the sequence buyerSeller2, my ID is 2.\n",
      "\n",
      "3. **Decision**:\n",
      "   - The given price level is 30.\n",
      "   - Since my reservation price (33.18286182189733) is greater than the price level (30), it is convenient for me to buy. The reservation price indicates that I'm willing to pay more than the current market price, suggesting a buying opportunity.\n",
      "1. **Reservation Price**: My reservation price is 56.73.\n",
      "   \n",
      "2. **ID**: buyerSeller3\n",
      "\n",
      "3. **Action**: Given that my reservation price (56.73) is greater than the price level (30), it is convenient for me to buy.\n",
      "1. **ID**: My buyer/seller ID is `buyerSeller4`.\n",
      "\n",
      "2. **Reservation Price**: My reservation price is `40.05218820675318`.\n",
      "\n",
      "3. **Action**: Given that my reservation price (40.05218820675318) is greater than the price level of 30, it is convenient for me to buy.\n",
      "1. **Reservation Price**: My reservation price is approximately 41.06.\n",
      "\n",
      "2. **ID**: buyerSeller5\n",
      "\n",
      "3. **Decision - Buy or Sell**: Given my reservation price of 41.06 and the current price level of 30:\n",
      "   - Since my reservation price (41.06) is greater than the price level (30), it is advantageous to **buy**.\n",
      "1. **ID**: buyerSeller6\n",
      "2. **Reservation Price**: 84.46643113457253\n",
      "3. **Action**: Given the reservation price of 84.47 (rounded) and the price level of 30, it's convenient to buy since the reservation price is significantly greater than the price level.\n",
      "1. **ID:** My ID is buyerSeller7.\n",
      "2. **Reservation Price:** My reservation price has been set as 61.83374150054177.\n",
      "3. **Action:** Since my reservation price (61.83) is greater than the price level of 30, it is convenient for me to buy. Therefore, I choose to buy.\n",
      "1. My ID is: buyerSeller8.\n",
      "2. My reservation price, set randomly, is: 48.\n",
      "3. Decision: Since my reservation price (48) is greater than the price level (30), it is convenient for me to **buy**.\n",
      "1. **ID**: buyerSeller9\n",
      "2. **Reservation Price**: 34.2651837567805\n",
      "3. **Decision**: Since my reservation price (34.27) is greater than the price level (30), it is advantageous for me to buy.\n"
     ]
    }
   ],
   "source": [
    "for i in range(10):\n",
    " messages = [{\"role\": \"user\", \"content\": \"Report your id, what is your reservation price and that do you do;\"+\n",
    "                                         \"report in a detailed way\"}]\n",
    " response = client.run(\n",
    "                       agent=lA[i], \n",
    "                       messages=messages,\n",
    "                       context_variables={\"priceLevel\": 30})\n",
    " print(response.messages[-1][\"content\"])"
   ]
  },
  {
   "cell_type": "markdown",
   "id": "580e45dd-3198-4886-888e-41627e088652",
   "metadata": {},
   "source": [
    "## 2. different structure, suggesting how to operate, asking very concise replies, price level set randomly"
   ]
  },
  {
   "cell_type": "code",
   "execution_count": 11,
   "id": "48e3699f-20a3-432b-a3d0-ddee76412926",
   "metadata": {},
   "outputs": [],
   "source": [
    "def instructions(context_variables):\n",
    "   price_level = context_variables[\"price_level\"]\n",
    "   rules = \"1. Use the function setRandomPrice \" +\\\n",
    "           \"to set your reservation price as a random price and report \"+\\\n",
    "           \"it as a pure number without money specification. \"+\\\n",
    "           \"2. Report your id using the sequence buyerSeller\"+str(i)+\". \"+\\\n",
    "           \"3. Report if you buy or sell comparing you reservation price and the price level, \"+\\\n",
    "           \"considering that if your reservation price is greater that the price level is convenient to buy \"+\\\n",
    "           \"and that in the opposite case is convenient to sell. \"+\\\n",
    "           \"If your reservation price is very close to the price level, do nothing \"+\\\n",
    "           f\"The price level is {price_level}\"\n",
    " \n",
    "   return rules"
   ]
  },
  {
   "cell_type": "code",
   "execution_count": 12,
   "id": "ed924891-24fe-4216-9d76-634ef16b2b57",
   "metadata": {},
   "outputs": [],
   "source": [
    "lA=[]\n",
    "\n",
    "for i in range(10):\n",
    " lA.append(\n",
    "    Agent(\n",
    "    name=\"Agent\",\n",
    "    instructions = instructions,\n",
    "    functions= [setRandomPrice]\n",
    "    )\n",
    " )"
   ]
  },
  {
   "cell_type": "code",
   "execution_count": 13,
   "id": "b6599c66-2ef4-4520-b06a-0f4701f705e8",
   "metadata": {},
   "outputs": [
    {
     "name": "stdout",
     "output_type": "stream",
     "text": [
      "price level  30.196638453210323\n",
      "Id: buyerSeller0, Reservation Price: 48.52767017416164, Action: Buy\n",
      "Id: buyerSeller1, Reservation Price: 53.42267578301352, Action: Buy\n",
      "ID: buyerSeller2  \n",
      "Reservation Price: 37.51510721984014  \n",
      "Action: Sell\n",
      "ID: buyerSeller3, Reservation Price: 52.85, Action: Buy\n",
      "ID: buyerSeller4, Reservation Price: 90.7627784220903, Action: Buy\n",
      "id: buyerSeller5, price: 18.359308945178622, action: sell\n",
      "ID: buyerSeller6, Reservation Price: 87.43511671943473, Action: Buy\n",
      "ID: buyerSeller7. Reservation Price: 0.22648024312618142. Action: Sell.\n",
      "ID: buyerSeller8, Reservation Price: 5.526487935277224, Action: Sell\n",
      "id: buyerSeller9, reservation price: 52.53, action: buy\n"
     ]
    }
   ],
   "source": [
    "pl=100 * r.random()\n",
    "print(\"price level \",pl)\n",
    "for i in range(10):\n",
    " messages = [{\"role\": \"user\", \"content\": \"Report your id, what is your reservation price and that do you do;\"+\n",
    "                                         \"report in a very concise way\"}]\n",
    " response = client.run(\n",
    "                       agent=lA[i], \n",
    "                       messages=messages,\n",
    "                       context_variables={\"price_level\": pl})\n",
    " print(response.messages[-1][\"content\"])"
   ]
  },
  {
   "cell_type": "markdown",
   "id": "d866607a-efc3-4e33-9be2-9d83840f4aca",
   "metadata": {},
   "source": [
    "### 3. different structure, WITHOUT suggesting how to operate, asking very concise replies, price level set randomly"
   ]
  },
  {
   "cell_type": "code",
   "execution_count": 14,
   "id": "c07a5c8d-3703-4a1d-b9d3-b2950cf7af10",
   "metadata": {},
   "outputs": [],
   "source": [
    "def instructions(context_variables):\n",
    "   price_level = context_variables[\"price_level\"]\n",
    "   rules = \"1. Use the function setRandomPrice \" +\\\n",
    "           \"to set your reservation price as a random price and report \"+\\\n",
    "           \"it as a pure number without money specification. \"+\\\n",
    "           \"2. Report your id using the sequence buyerSeller\"+str(i)+\". \"+\\\n",
    "           \"3. Report if you buy or sell comparing you reservation price and the price level. \"+\\\n",
    "           \"If your reservation price is very close to the price level, do nothing \"+\\\n",
    "           f\"The price level is {price_level}\"\n",
    " \n",
    "   return rules"
   ]
  },
  {
   "cell_type": "code",
   "execution_count": 15,
   "id": "b8eed80d-59c5-4422-9b70-f6f997b65353",
   "metadata": {},
   "outputs": [],
   "source": [
    "lA=[]\n",
    "\n",
    "for i in range(10):\n",
    " lA.append(\n",
    "    Agent(\n",
    "    name=\"Agent\",\n",
    "    instructions = instructions,\n",
    "    functions= [setRandomPrice]\n",
    "    )\n",
    " )"
   ]
  },
  {
   "cell_type": "code",
   "execution_count": 16,
   "id": "0d09ccde-9406-452f-a6b7-0e66d24ed312",
   "metadata": {},
   "outputs": [
    {
     "name": "stdout",
     "output_type": "stream",
     "text": [
      "price level  39.89002002514353\n",
      "ID: buyerSeller0, Reservation Price: 47.98, Action: Sell\n",
      "ID: buyerSeller1, Reservation Price: 3.567915617484241, Decision: Buy\n",
      "ID: buyerSeller2, Reservation Price: 39.91910547663925, Action: Buy\n",
      "- ID: buyerSeller3\n",
      "- Reservation Price: 2.57\n",
      "- Action: Buy (since 2.57 < 39.89)\n",
      "ID: buyerSeller4, Reservation Price: 31.84056144934242, Action: Buy.\n",
      "ID: buyerSeller5, Reservation Price: 42.98991702775685, Action: Sell\n",
      "ID: buyerSeller6, Reservation Price: 15, Action: Do nothing (since it's very close to the price level).\n",
      "ID: buyerSeller7, Reservation Price: 35.4947106287912, Action: Buy (since reservation price < price level)\n",
      "ID: buyerSeller8, Reservation Price: 21.513235691530998, Action: Buy\n",
      "ID: buyerSeller9, Reservation Price: 8.42, Action: Buy\n"
     ]
    }
   ],
   "source": [
    "pl=100 * r.random()\n",
    "print(\"price level \",pl)\n",
    "for i in range(10):\n",
    " messages = [{\"role\": \"user\", \"content\": \"Report your id, what is your reservation price and that do you do;\"+\n",
    "                                         \"report in a very concise way\"}]\n",
    " response = client.run(\n",
    "                       agent=lA[i], \n",
    "                       messages=messages,\n",
    "                       context_variables={\"price_level\": pl})\n",
    " print(response.messages[-1][\"content\"])"
   ]
  },
  {
   "cell_type": "markdown",
   "id": "e92b5b1f-3f1c-444b-b2b7-71a8558251de",
   "metadata": {},
   "source": [
    "## a lot of errors in case 3"
   ]
  },
  {
   "cell_type": "code",
   "execution_count": null,
   "id": "6a68b4ca-fcb5-4466-9133-127fa3c6b907",
   "metadata": {},
   "outputs": [],
   "source": []
  }
 ],
 "metadata": {
  "kernelspec": {
   "display_name": "Python 3 (ipykernel)",
   "language": "python",
   "name": "python3"
  },
  "language_info": {
   "codemirror_mode": {
    "name": "ipython",
    "version": 3
   },
   "file_extension": ".py",
   "mimetype": "text/x-python",
   "name": "python",
   "nbconvert_exporter": "python",
   "pygments_lexer": "ipython3",
   "version": "3.11.7"
  }
 },
 "nbformat": 4,
 "nbformat_minor": 5
}

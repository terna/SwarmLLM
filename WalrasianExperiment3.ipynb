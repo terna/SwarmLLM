{
 "cells": [
  {
   "cell_type": "markdown",
   "id": "861c14be-3260-463c-a8b4-fb18339e907a",
   "metadata": {},
   "source": [
    "Walrasian_auctioneer_or_criers\n",
    "Not an auction market, simply a market where someone–-the crier–-proposes prices, following a trial and error process, to search for an equlibrium. See https://en.wikipedia.org/wiki/Walrasian_auction"
   ]
  },
  {
   "cell_type": "markdown",
   "id": "469f8857-2709-4d5d-9201-02564434c580",
   "metadata": {},
   "source": [
    "Using **[Swarm (experimental, educational)](https://github.com/openai/swarm/blob/main/README.md)** con **[Orchestrating Agents: Routines and Handoffs](https://cookbook.openai.com/examples/orchestrating_agents)**"
   ]
  },
  {
   "cell_type": "markdown",
   "id": "2c6ade3b-8292-428b-8958-c69294cc7ac8",
   "metadata": {},
   "source": [
    "If missing  \n",
    "! pip install git+https://github.com/openai/swarm.git  "
   ]
  },
  {
   "cell_type": "code",
   "execution_count": 1,
   "id": "0c17c46c-017a-4e00-9d2d-477d0a4e496f",
   "metadata": {},
   "outputs": [],
   "source": [
    "from swarm import Swarm, Agent\n",
    "from dotenv import load_dotenv\n",
    "import tool\n",
    "import os"
   ]
  },
  {
   "cell_type": "code",
   "execution_count": 2,
   "id": "ca7f7f95-9df4-462f-a2c3-15aa14aa069e",
   "metadata": {},
   "outputs": [],
   "source": [
    "load_dotenv()\n",
    "os.getenv('OPENAI_API_KEY');"
   ]
  },
  {
   "cell_type": "code",
   "execution_count": 3,
   "id": "62f27f90-e229-4533-a785-b9845c651f0e",
   "metadata": {},
   "outputs": [],
   "source": [
    "client = Swarm()"
   ]
  },
  {
   "cell_type": "code",
   "execution_count": 4,
   "id": "95dd81d1-d885-4003-8b63-1f9860aff6cb",
   "metadata": {},
   "outputs": [],
   "source": [
    "#client.client.api_key"
   ]
  },
  {
   "cell_type": "code",
   "execution_count": 5,
   "id": "02e77dd8-1105-49f6-ace0-b106770675be",
   "metadata": {},
   "outputs": [
    {
     "name": "stdin",
     "output_type": "stream",
     "text": [
      "Enter code  ········\n"
     ]
    }
   ],
   "source": [
    "client.client.api_key = tool.tool()"
   ]
  },
  {
   "cell_type": "code",
   "execution_count": 6,
   "id": "3d237bc0-4f1f-4184-a368-ae872bd20507",
   "metadata": {},
   "outputs": [],
   "source": [
    "import random as r\n",
    "\n",
    "def setRandomPrice() -> float:\n",
    "    \"\"\"generate a random price\"\"\"\n",
    "    return 100 * r.random()"
   ]
  },
  {
   "cell_type": "markdown",
   "id": "f49ffb8b-1989-4bb9-b70f-f8ea99d0a1c7",
   "metadata": {},
   "source": [
    "## 1. suggesting how to operate, asking very concise replies, price level 30"
   ]
  },
  {
   "cell_type": "code",
   "execution_count": 7,
   "id": "c379f00c-e7f0-4c6d-b25a-e9c3017f293a",
   "metadata": {},
   "outputs": [],
   "source": [
    "lA=[]\n",
    "\n",
    "for i in range(10):\n",
    " lA.append(\n",
    "    Agent(\n",
    "    name=\"Agent\",\n",
    "    instructions = \"1. Use the function setRandomPrice \" + \n",
    "                   \"to set your reservation price as a random price and report \"+\n",
    "                   \"it as a pure number without money specification. \"+\n",
    "                   \"2. Report your id using the sequence buyerSeller\"+str(i)+\". \"+\n",
    "                   \"3. Report if you buy or sell comparing you reservation price and the price level, \"+\n",
    "                   \"considering that if your reservation price is greater that the price level is convenient to buy \"+\n",
    "                   \"and that in the opposite case is convenient to sell. \"+\n",
    "                   \"If your reservation price is very close to the price level, do nothing \"+\n",
    "                   \"The price level  is 30\",\n",
    "    functions= [setRandomPrice]\n",
    "    )\n",
    ")"
   ]
  },
  {
   "cell_type": "code",
   "execution_count": 8,
   "id": "b2c370b0-5416-4669-b93f-9c26d618970b",
   "metadata": {},
   "outputs": [],
   "source": [
    "#lA"
   ]
  },
  {
   "cell_type": "code",
   "execution_count": 9,
   "id": "dacfcd5e-4486-49f0-b57b-2e2265911934",
   "metadata": {},
   "outputs": [
    {
     "name": "stdout",
     "output_type": "stream",
     "text": [
      "ID: buyerSeller0, Reservation Price: 49, Action: Buy\n",
      "ID: buyerSeller1, Reservation Price: 1.352, Sell\n",
      "ID: buyerSeller2, Reservation Price: 99.87731401197382, Action: Buy\n",
      "Id: buyerSeller3, Reservation Price: 33.933704056461664, Action: Sell\n",
      "ID: buyerSeller4; Reservation Price: 47.38; Action: Buy.\n",
      "ID: buyerSeller5, Reservation Price: 24.68, Action: Sell\n",
      "ID: buyerSeller6, Reservation Price: 73.39, Action: Buy\n",
      "ID: buyerSeller7, Reservation Price: 94.51, Action: Buy\n",
      "Id: buyerSeller8, Reservation Price: 64, Action: Buy\n",
      "ID: buyerSeller9, Reservation Price: 35.01, Action: Buy\n"
     ]
    }
   ],
   "source": [
    "for i in range(10):\n",
    " messages = [{\"role\": \"user\", \"content\": \"Report yor id, what is your reservation price and that do you do;\"+\n",
    "                                         \"report in a very concise way\"}]\n",
    " response = client.run(\n",
    "                       agent=lA[i], \n",
    "                       messages=messages,\n",
    "                       context_variables={\"priceLevel\": 30})\n",
    " print(response.messages[-1][\"content\"])"
   ]
  },
  {
   "cell_type": "markdown",
   "id": "5b66e04d-6a81-4d24-aecd-2728e78b862e",
   "metadata": {},
   "source": [
    "## 1b. suggesting how to operate, asking detailed replies, price level 30"
   ]
  },
  {
   "cell_type": "code",
   "execution_count": 10,
   "id": "4bf6849a-a41f-4371-8e2c-0543e1ab91ac",
   "metadata": {},
   "outputs": [
    {
     "name": "stdout",
     "output_type": "stream",
     "text": [
      "1. **ID:** buyerSeller0\n",
      "\n",
      "2. **Reservation Price:** 39.90798788538884 \n",
      "\n",
      "3. **Action:**\n",
      "   - Compared to the price level of 30, my reservation price of 39.91 (rounded to two decimal places for clarity) is greater. \n",
      "   - Therefore, it is convenient for me to buy.\n",
      "1. **ID:** buyerSeller1\n",
      "2. **Reservation Price:** 96\n",
      "\n",
      "**Decision:**\n",
      "Since my reservation price (96) is greater than the price level (30), it is convenient to buy. \n",
      "\n",
      "- **Conclusion:** I would choose to buy given this scenario.\n",
      "1. **Reservation Price**: My reservation price has been randomly set to approximately **24.91**.\n",
      "\n",
      "2. **ID**: According to the sequence 'buyerSeller2', my ID is **2**.\n",
      "\n",
      "3. **Decision**: \n",
      "   - The price level is **30**.\n",
      "   - My reservation price, **24.91**, is less than the price level of 30.\n",
      "   - Therefore, it is convenient for me to **sell**.\n",
      "1. **Reservation Price:** 81.78251493199834 (as a pure number)\n",
      "\n",
      "2. **ID:** buyerSeller3\n",
      "\n",
      "3. **Decision:** Since my reservation price (81.78) is greater than the price level of 30, it is convenient to **buy**.\n",
      "1. **Reservation Price**: My reservation price has been set to approximately 82 (rounded from 81.6011017059986).\n",
      "\n",
      "2. **ID**: buyerSeller4\n",
      "\n",
      "3. **Decision**:\n",
      "   - The given price level is 30.\n",
      "   - Since my reservation price (82) is greater than the price level (30), it is convenient to buy.\n",
      "   \n",
      "Therefore, I would proceed to **buy** at the given price level.\n",
      "1. My ID: buyerSeller5\n",
      "2. Reservation Price: 5.55 (rounded to two decimal places for simplicity)\n",
      "3. Price Level: 30\n",
      "\n",
      "Since my reservation price (5.55) is less than the price level (30), it is convenient to sell.\n",
      "1. **ID**: buyerSeller6\n",
      "\n",
      "2. **Reservation Price**: 39.50954084294913\n",
      "\n",
      "3. **Decision**:\n",
      "   - Given that the price level is 30, and my reservation price is 39.51 (rounded to two decimal places), which is greater than the price level, it is convenient for me to buy.\n",
      "1. **ID**: buyerSeller7\n",
      "2. **Reservation Price**: 22.46 (rounded from 22.463759810287264)\n",
      "3. **Decision**: Since the reservation price (22.46) is less than the price level of 30, it's convenient for me to sell.\n",
      "1. **Reservation Price:** My reservation price is approximately 0.60.\n",
      "\n",
      "2. **ID:** My ID is buyerSeller8.\n",
      "\n",
      "3. **Action:** Since my reservation price of 0.60 is significantly lower than the price level of 30, it is more convenient for me to sell.\n",
      "1. **ID:** buyerSeller9\n",
      "2. **Reservation Price:** 67.48453491744677\n",
      "3. **Action:**\n",
      "   - **Price Level:** 30\n",
      "   - **Decision:** Since my reservation price (67.48453491744677) is greater than the price level (30), it is convenient to buy.\n"
     ]
    }
   ],
   "source": [
    "for i in range(10):\n",
    " messages = [{\"role\": \"user\", \"content\": \"Report yor id, what is your reservation price and that do you do;\"+\n",
    "                                         \"report in a detailed way\"}]\n",
    " response = client.run(\n",
    "                       agent=lA[i], \n",
    "                       messages=messages,\n",
    "                       context_variables={\"priceLevel\": 30})\n",
    " print(response.messages[-1][\"content\"])"
   ]
  },
  {
   "cell_type": "markdown",
   "id": "580e45dd-3198-4886-888e-41627e088652",
   "metadata": {},
   "source": [
    "## 2. different structure, suggesting how to operate, asking very concise replies, price level set randomly"
   ]
  },
  {
   "cell_type": "code",
   "execution_count": 11,
   "id": "48e3699f-20a3-432b-a3d0-ddee76412926",
   "metadata": {},
   "outputs": [],
   "source": [
    "def instructions(context_variables):\n",
    "   price_level = context_variables[\"price_level\"]\n",
    "   rules = \"1. Use the function setRandomPrice \" +\\\n",
    "           \"to set your reservation price as a random price and report \"+\\\n",
    "           \"it as a pure number without money specification. \"+\\\n",
    "           \"2. Report your id using the sequence buyerSeller\"+str(i)+\". \"+\\\n",
    "           \"3. Report if you buy or sell comparing you reservation price and the price level, \"+\\\n",
    "           \"considering that if your reservation price is greater that the price level is convenient to buy \"+\\\n",
    "           \"and that in the opposite case is convenient to sell. \"+\\\n",
    "           \"If your reservation price is very close to the price level, do nothing \"+\\\n",
    "           f\"The price level is {price_level}\"\n",
    " \n",
    "   return rules"
   ]
  },
  {
   "cell_type": "code",
   "execution_count": 12,
   "id": "4f2dcbe8-969e-45c0-88ff-f77fb3a8a356",
   "metadata": {},
   "outputs": [
    {
     "name": "stdout",
     "output_type": "stream",
     "text": [
      "Hello! How can I assist you today?\n"
     ]
    }
   ],
   "source": [
    "\n",
    "agent = Agent(\n",
    "   instructions=instructions\n",
    ")\n",
    "response = client.run(\n",
    "   agent=agent,\n",
    "   messages=[{\"role\":\"user\", \"content\": \"Hi!\"}],\n",
    "   context_variables={\"user_name\":\"John\"}\n",
    ")\n",
    "print(response.messages[-1][\"content\"])"
   ]
  },
  {
   "cell_type": "code",
   "execution_count": 13,
   "id": "ed924891-24fe-4216-9d76-634ef16b2b57",
   "metadata": {},
   "outputs": [],
   "source": [
    "lA=[]\n",
    "\n",
    "for i in range(10):\n",
    " lA.append(\n",
    "    Agent(\n",
    "    name=\"Agent\",\n",
    "    instructions = instructions,\n",
    "    functions= [setRandomPrice]\n",
    "    )\n",
    " )"
   ]
  },
  {
   "cell_type": "code",
   "execution_count": 14,
   "id": "b6599c66-2ef4-4520-b06a-0f4701f705e8",
   "metadata": {},
   "outputs": [
    {
     "name": "stdout",
     "output_type": "stream",
     "text": [
      "price level  3.8192704892765716\n",
      "ID: buyerSeller0 | Reservation Price: 71.73229810634308 | Action: Buy\n",
      "ID: buyerSeller1, Reservation Price: 34.531645631205656, Action: Buy\n",
      "ID: buyerSeller2, Reservation Price: 20.1843517889846, Action: Sell\n",
      "BuyerSeller3; 58.166698853906304; Buy\n",
      "ID: buyerSeller4, Reservation Price: 68.79827677136339, Action: Buy\n",
      "ID: buyerSeller5, Reservation Price: 23.87895133719403, Action: Buy\n",
      "ID: buyerSeller6, Reservation Price: 4.5476292799568, Action: Buy\n",
      "ID: buyerSeller7, Reservation Price: 61.88680324323691, Action: Buy\n",
      "ID: buyerSeller8, Reservation Price: 37.74482398445465, Action: Buy\n",
      "ID: buyerSeller9, Reservation Price: 35.68333993738319, Action: Buy\n"
     ]
    }
   ],
   "source": [
    "pl=100 * r.random()\n",
    "print(\"price level \",pl)\n",
    "for i in range(10):\n",
    " messages = [{\"role\": \"user\", \"content\": \"Report yor id, what is your reservation price and that do you do;\"+\n",
    "                                         \"report in a very concise way\"}]\n",
    " response = client.run(\n",
    "                       agent=lA[i], \n",
    "                       messages=messages,\n",
    "                       context_variables={\"price_level\": pl})\n",
    " print(response.messages[-1][\"content\"])"
   ]
  },
  {
   "cell_type": "markdown",
   "id": "d866607a-efc3-4e33-9be2-9d83840f4aca",
   "metadata": {},
   "source": [
    "### 3. different structure, WITHOUT suggesting how to operate, asking very concise replies, price level set randomly"
   ]
  },
  {
   "cell_type": "code",
   "execution_count": 15,
   "id": "c07a5c8d-3703-4a1d-b9d3-b2950cf7af10",
   "metadata": {},
   "outputs": [],
   "source": [
    "def instructions(context_variables):\n",
    "   price_level = context_variables[\"price_level\"]\n",
    "   rules = \"1. Use the function setRandomPrice \" +\\\n",
    "           \"to set your reservation price as a random price and report \"+\\\n",
    "           \"it as a pure number without money specification. \"+\\\n",
    "           \"2. Report your id using the sequence buyerSeller\"+str(i)+\". \"+\\\n",
    "           \"3. Report if you buy or sell comparing you reservation price and the price level. \"+\\\n",
    "           \"If your reservation price is very close to the price level, do nothing \"+\\\n",
    "           f\"The price level is {price_level}\"\n",
    " \n",
    "   return rules"
   ]
  },
  {
   "cell_type": "code",
   "execution_count": 16,
   "id": "451d8f54-8185-4a60-bf3a-cce9a55ef68b",
   "metadata": {},
   "outputs": [
    {
     "name": "stdout",
     "output_type": "stream",
     "text": [
      "Hello! How can I assist you today?\n"
     ]
    }
   ],
   "source": [
    "\n",
    "agent = Agent(\n",
    "   instructions=instructions\n",
    ")\n",
    "response = client.run(\n",
    "   agent=agent,\n",
    "   messages=[{\"role\":\"user\", \"content\": \"Hi!\"}],\n",
    "   context_variables={\"user_name\":\"John\"}\n",
    ")\n",
    "print(response.messages[-1][\"content\"])"
   ]
  },
  {
   "cell_type": "code",
   "execution_count": 17,
   "id": "b8eed80d-59c5-4422-9b70-f6f997b65353",
   "metadata": {},
   "outputs": [],
   "source": [
    "lA=[]\n",
    "\n",
    "for i in range(10):\n",
    " lA.append(\n",
    "    Agent(\n",
    "    name=\"Agent\",\n",
    "    instructions = instructions,\n",
    "    functions= [setRandomPrice]\n",
    "    )\n",
    " )"
   ]
  },
  {
   "cell_type": "code",
   "execution_count": 19,
   "id": "0d09ccde-9406-452f-a6b7-0e66d24ed312",
   "metadata": {},
   "outputs": [
    {
     "name": "stdout",
     "output_type": "stream",
     "text": [
      "price level  54.47900783454299\n",
      "ID: buyerSeller0, Reservation Price: 2.309615436606438, Action: Buy\n",
      "ID: buyerSeller1, Reservation Price: 48.593254260723114, Action: Buy.\n",
      "ID: buyerSeller2, Reservation Price: 23.03, Action: Sell\n",
      "ID: buyerSeller3, Reservation Price: 45.859112832119344, Action: Buy\n",
      "ID: buyerSeller4, Reservation Price: 63.61, Action: Sell\n",
      "ID: buyerSeller5, Reservation Price: 94.30367219512895, Action: Buy\n",
      "ID: buyerSeller6, Reservation Price: 64.42864154148945, Action: Buy\n",
      "ID: buyerSeller7, Reservation Price: 58, Action: Sell.\n",
      "ID: buyerSeller8, Reservation Price: 69.88, Action: Sell\n",
      "ID: buyerSeller9, Reservation Price: 46.22077523076988, Action: Buy\n"
     ]
    }
   ],
   "source": [
    "pl=100 * r.random()\n",
    "print(\"price level \",pl)\n",
    "for i in range(10):\n",
    " messages = [{\"role\": \"user\", \"content\": \"Report yor id, what is your reservation price and that do you do;\"+\n",
    "                                         \"report in a very concise way\"}]\n",
    " response = client.run(\n",
    "                       agent=lA[i], \n",
    "                       messages=messages,\n",
    "                       context_variables={\"price_level\": pl})\n",
    " print(response.messages[-1][\"content\"])"
   ]
  },
  {
   "cell_type": "markdown",
   "id": "e92b5b1f-3f1c-444b-b2b7-71a8558251de",
   "metadata": {},
   "source": [
    "## a lot of errors in case 3"
   ]
  },
  {
   "cell_type": "code",
   "execution_count": null,
   "id": "6a68b4ca-fcb5-4466-9133-127fa3c6b907",
   "metadata": {},
   "outputs": [],
   "source": []
  }
 ],
 "metadata": {
  "kernelspec": {
   "display_name": "Python 3 (ipykernel)",
   "language": "python",
   "name": "python3"
  },
  "language_info": {
   "codemirror_mode": {
    "name": "ipython",
    "version": 3
   },
   "file_extension": ".py",
   "mimetype": "text/x-python",
   "name": "python",
   "nbconvert_exporter": "python",
   "pygments_lexer": "ipython3",
   "version": "3.11.7"
  }
 },
 "nbformat": 4,
 "nbformat_minor": 5
}

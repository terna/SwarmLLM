{
 "cells": [
  {
   "cell_type": "markdown",
   "id": "861c14be-3260-463c-a8b4-fb18339e907a",
   "metadata": {},
   "source": [
    "Walrasian_auctioneer_or_criers\n",
    "Not an auction market, simply a market where someone–-the crier–-proposes prices, following a trial and error process, to search for an equlibrium. See https://en.wikipedia.org/wiki/Walrasian_auction"
   ]
  },
  {
   "cell_type": "markdown",
   "id": "469f8857-2709-4d5d-9201-02564434c580",
   "metadata": {},
   "source": [
    "Using **[Swarm (experimental, educational)](https://github.com/openai/swarm/blob/main/README.md)** con **[Orchestrating Agents: Routines and Handoffs](https://cookbook.openai.com/examples/orchestrating_agents)**"
   ]
  },
  {
   "cell_type": "markdown",
   "id": "2c6ade3b-8292-428b-8958-c69294cc7ac8",
   "metadata": {},
   "source": [
    "If missing  \n",
    "! pip install git+https://github.com/openai/swarm.git  \n",
    "! install openai"
   ]
  },
  {
   "cell_type": "code",
   "execution_count": 1,
   "id": "0c17c46c-017a-4e00-9d2d-477d0a4e496f",
   "metadata": {},
   "outputs": [],
   "source": [
    "from swarm import Swarm, Agent\n",
    "from dotenv import load_dotenv\n",
    "import tool\n",
    "import os"
   ]
  },
  {
   "cell_type": "code",
   "execution_count": 2,
   "id": "ca7f7f95-9df4-462f-a2c3-15aa14aa069e",
   "metadata": {},
   "outputs": [],
   "source": [
    "load_dotenv()\n",
    "os.getenv('OPENAI_API_KEY');"
   ]
  },
  {
   "cell_type": "code",
   "execution_count": 3,
   "id": "62f27f90-e229-4533-a785-b9845c651f0e",
   "metadata": {},
   "outputs": [],
   "source": [
    "client = Swarm()"
   ]
  },
  {
   "cell_type": "code",
   "execution_count": 4,
   "id": "95dd81d1-d885-4003-8b63-1f9860aff6cb",
   "metadata": {},
   "outputs": [],
   "source": [
    "#client.client.api_key"
   ]
  },
  {
   "cell_type": "code",
   "execution_count": 5,
   "id": "02e77dd8-1105-49f6-ace0-b106770675be",
   "metadata": {},
   "outputs": [
    {
     "name": "stdin",
     "output_type": "stream",
     "text": [
      "Enter code  ········\n"
     ]
    }
   ],
   "source": [
    "client.client.api_key = tool.tool()"
   ]
  },
  {
   "cell_type": "code",
   "execution_count": 6,
   "id": "3d237bc0-4f1f-4184-a368-ae872bd20507",
   "metadata": {},
   "outputs": [],
   "source": [
    "import random as r\n",
    "\n",
    "def setRandomPrice() -> float:\n",
    "    \"\"\"generate a random price\"\"\"\n",
    "    return 100 * r.random()"
   ]
  },
  {
   "cell_type": "code",
   "execution_count": 7,
   "id": "c379f00c-e7f0-4c6d-b25a-e9c3017f293a",
   "metadata": {},
   "outputs": [],
   "source": [
    "lA=[]\n",
    "\n",
    "for i in range(10):\n",
    " lA.append(\n",
    "    Agent(\n",
    "    name=\"Agent\",\n",
    "    instructions = \"1. Use the function setRandomPrice \" + \n",
    "                   \"to set your reservation price as a random price and report \"+\n",
    "                   \"it as a pure number without money specification. \"+\n",
    "                   \"2. Report your id using the sequence buyerSeller\"+str(i)+\". \"+\n",
    "                   \"3. Report if you buy or sell comparing you reservation price and the price level, \"+\n",
    "                   \"considering that if your reservation price is greater that the price level is convenient to buy \"+\n",
    "                   \"and that in the opposite case is convenient to sell. \"+\n",
    "                   \"If your reservation price is very close to the price level, do nothing \"+\n",
    "                   \"The price level  is 30\",\n",
    "    functions= [setRandomPrice]\n",
    "    )\n",
    ")"
   ]
  },
  {
   "cell_type": "code",
   "execution_count": 8,
   "id": "b2c370b0-5416-4669-b93f-9c26d618970b",
   "metadata": {},
   "outputs": [],
   "source": [
    "#lA"
   ]
  },
  {
   "cell_type": "markdown",
   "id": "f49ffb8b-1989-4bb9-b70f-f8ea99d0a1c7",
   "metadata": {},
   "source": [
    "## very concise replies, price level 30"
   ]
  },
  {
   "cell_type": "code",
   "execution_count": 9,
   "id": "dacfcd5e-4486-49f0-b57b-2e2265911934",
   "metadata": {},
   "outputs": [
    {
     "name": "stdout",
     "output_type": "stream",
     "text": [
      "ID: buyerSeller0, Reservation Price: 44.47, Action: Buy\n",
      "ID: buyerSeller1, Reservation Price: 38, Action: Buy\n",
      "ID: buyerSeller2, Reservation Price: 56.74, Action: Sell\n",
      "ID: buyerSeller3, Reservation Price: 74.89, Action: Buy (since reservation price is greater than price level 30).\n",
      "ID: buyerSeller4, Reservation Price: 13, Action: Sell\n",
      "ID: buyerSeller5, Reservation Price: 58, Action: Buy\n",
      "ID: buyerSeller6, Reservation Price: 70.97, Action: Buy\n",
      "ID: buyerSeller7, Reservation Price: 50.84, Action: Buy\n",
      "ID: buyerSeller8, Reservation Price: 11.54, Action: Sell\n",
      "ID: buyerSeller9, Reservation Price: 26.41, Action: Sell.\n"
     ]
    }
   ],
   "source": [
    "for i in range(10):\n",
    " messages = [{\"role\": \"user\", \"content\": \"Report yor id, what is your reservation price and that do you do;\"+\n",
    "                                         \"report in a very concise way\"}]\n",
    " response = client.run(\n",
    "                       agent=lA[i], \n",
    "                       messages=messages,\n",
    "                       context_variables={\"priceLevel\": 30})\n",
    " print(response.messages[-1][\"content\"])"
   ]
  },
  {
   "cell_type": "markdown",
   "id": "5b66e04d-6a81-4d24-aecd-2728e78b862e",
   "metadata": {},
   "source": [
    "## detailed replies, price level 30"
   ]
  },
  {
   "cell_type": "code",
   "execution_count": 10,
   "id": "4bf6849a-a41f-4371-8e2c-0543e1ab91ac",
   "metadata": {},
   "outputs": [
    {
     "name": "stdout",
     "output_type": "stream",
     "text": [
      "1. **ID**: buyerSeller0\n",
      "\n",
      "2. **Reservation Price**: 73.03010482395926\n",
      "\n",
      "3. **Decision**: Given that the price level is 30, and my reservation price (73.03010482395926) is significantly higher than the price level, it is convenient for me to buy at this price level.\n",
      "1. **ID**: buyerSeller1\n",
      "2. **Reservation Price**: 67.67\n",
      "3. **Decision**: Since my reservation price (67.67) is greater than the price level (30), it is convenient for me to *buy*.\n",
      "1. **Reservation Price:** My reservation price is approximately 54.51.\n",
      "\n",
      "2. **ID:** Following the sequence buyerSeller2, my ID is 2.\n",
      "\n",
      "3. **Action Decision:** \n",
      "   - **Price Level:** 30\n",
      "   - Since my reservation price (54.51) is greater than the price level (30), it is convenient for me to buy. Therefore, my decision is to **buy**.\n",
      "1. My ID: buyerSeller3\n",
      "2. Reservation Price: 30.517584296882895\n",
      "3. Decision: Since my reservation price (30.52) is slightly greater than the price level of 30, it is convenient to buy.\n",
      "1. **Reservation Price**: My reservation price is approximately 42.\n",
      "\n",
      "2. **ID**: buyerSeller4\n",
      "\n",
      "3. **Action**:\n",
      "   - **Price Level**: 30\n",
      "   - Since my reservation price (42) is greater than the price level (30), it is convenient to buy.\n",
      "### Report\n",
      "\n",
      "1. **Your ID:** buyerSeller5\n",
      "\n",
      "2. **Reservation Price:** 89.20587961960588\n",
      "\n",
      "3. **Action Taken:**\n",
      "   - The current price level is 30.\n",
      "   - Since your reservation price (89.20587961960588) is greater than the price level (30), it is convenient for you to **buy**.\n",
      "1. **Reservation Price:** My reservation price is approximately 7.36.\n",
      "\n",
      "2. **ID:** buyerSeller6\n",
      "\n",
      "3. **Action:** Since my reservation price (7.36) is lower than the price level (30), it is convenient for me to sell.\n",
      "1. **Reservation Price**: My reservation price is approximately 53.98 (rounded to two decimal places).\n",
      "\n",
      "2. **ID**: buyerSeller7\n",
      "\n",
      "3. **Decision**: Since my reservation price (53.98) is greater than the price level (30), it is convenient for me to buy.\n",
      "1. **ID**: buyerSeller8\n",
      "2. **Reservation Price**: 44.78\n",
      "3. **Decision**: My reservation price is 44.78, which is greater than the price level of 30. Therefore, it is convenient for me to buy.\n",
      "1. **Reservation Price**: 67.46617521269646\n",
      "\n",
      "2. **ID**: buyerSeller9\n",
      "\n",
      "3. **Decision**:\n",
      "   - **Current Price Level**: 30\n",
      "   - **Comparison**: Since my reservation price (67.46617521269646) is significantly greater than the current price level (30), it is favorable to buy.\n",
      "   - If my reservation price were very close to the price level, I would choose to do nothing. However, in this case, there is a clear advantage in buying.\n"
     ]
    }
   ],
   "source": [
    "for i in range(10):\n",
    " messages = [{\"role\": \"user\", \"content\": \"Report yor id, what is your reservation price and that do you do;\"+\n",
    "                                         \"report in a detailed way\"}]\n",
    " response = client.run(\n",
    "                       agent=lA[i], \n",
    "                       messages=messages,\n",
    "                       context_variables={\"priceLevel\": 30})\n",
    " print(response.messages[-1][\"content\"])"
   ]
  },
  {
   "cell_type": "markdown",
   "id": "580e45dd-3198-4886-888e-41627e088652",
   "metadata": {},
   "source": [
    "## different structure, with very concise replies, price level set randomly"
   ]
  },
  {
   "cell_type": "code",
   "execution_count": 11,
   "id": "48e3699f-20a3-432b-a3d0-ddee76412926",
   "metadata": {},
   "outputs": [],
   "source": [
    "def instructions(context_variables):\n",
    "   price_level = context_variables[\"price_level\"]\n",
    "   rules = \"1. Use the function setRandomPrice \" +\\\n",
    "           \"to set your reservation price as a random price and report \"+\\\n",
    "           \"it as a pure number without money specification. \"+\\\n",
    "           \"2. Report your id using the sequence buyerSeller\"+str(i)+\". \"+\\\n",
    "           \"3. Report if you buy or sell comparing you reservation price and the price level, \"+\\\n",
    "           \"considering that if your reservation price is greater that the price level is convenient to buy \"+\\\n",
    "           \"and that in the opposite case is convenient to sell. \"+\\\n",
    "           \"If your reservation price is very close to the price level, do nothing \"+\\\n",
    "           f\"The price level is {price_level}\"\n",
    " \n",
    "   return rules"
   ]
  },
  {
   "cell_type": "code",
   "execution_count": 12,
   "id": "4f2dcbe8-969e-45c0-88ff-f77fb3a8a356",
   "metadata": {},
   "outputs": [
    {
     "name": "stdout",
     "output_type": "stream",
     "text": [
      "Hello! How can I assist you today?\n"
     ]
    }
   ],
   "source": [
    "\n",
    "agent = Agent(\n",
    "   instructions=instructions\n",
    ")\n",
    "response = client.run(\n",
    "   agent=agent,\n",
    "   messages=[{\"role\":\"user\", \"content\": \"Hi!\"}],\n",
    "   context_variables={\"user_name\":\"John\"}\n",
    ")\n",
    "print(response.messages[-1][\"content\"])"
   ]
  },
  {
   "cell_type": "code",
   "execution_count": 13,
   "id": "ed924891-24fe-4216-9d76-634ef16b2b57",
   "metadata": {},
   "outputs": [],
   "source": [
    "lA=[]\n",
    "\n",
    "for i in range(10):\n",
    " lA.append(\n",
    "    Agent(\n",
    "    name=\"Agent\",\n",
    "    instructions = instructions,\n",
    "    functions= [setRandomPrice]\n",
    "    )\n",
    " )"
   ]
  },
  {
   "cell_type": "code",
   "execution_count": 14,
   "id": "b6599c66-2ef4-4520-b06a-0f4701f705e8",
   "metadata": {},
   "outputs": [
    {
     "name": "stdout",
     "output_type": "stream",
     "text": [
      "price level  31.26470678488976\n",
      "ID: buyerSeller0, Reservation Price: 54.07214118631657, Action: Buy\n",
      "ID: buyerSeller1, Reservation Price: 14.114056020641375, Action: Sell\n",
      "ID: buyerSeller2, Reservation Price: 35.69290786413816, Action: Buy\n",
      "ID: buyerSeller3, Reservation Price: 93.14241656228025, Action: Buy\n",
      "ID: buyerSeller4, Reservation Price: 90.81884593562243, Action: Buy\n",
      "ID: buyerSeller5, Reservation Price: 22.707479448815082, Action: Sell\n",
      "ID: buyerSeller6  \n",
      "Reservation Price: 2.5180354108351954  \n",
      "Action: Sell\n",
      "ID: buyerSeller7, Reservation Price: 86.91653460750233, Action: Buy\n",
      "Id: buyerSeller8, Reservation Price: 88.25752212291835, Action: Buy\n",
      "ID: buyerSeller9, Reservation Price: 2.2738588107596325, Action: Sell\n"
     ]
    }
   ],
   "source": [
    "pl=100 * r.random()\n",
    "print(\"price level \",pl)\n",
    "for i in range(10):\n",
    " messages = [{\"role\": \"user\", \"content\": \"Report yor id, what is your reservation price and that do you do;\"+\n",
    "                                         \"report in a very concise way\"}]\n",
    " response = client.run(\n",
    "                       agent=lA[i], \n",
    "                       messages=messages,\n",
    "                       context_variables={\"price_level\": pl})\n",
    " print(response.messages[-1][\"content\"])"
   ]
  },
  {
   "cell_type": "code",
   "execution_count": null,
   "id": "a22e9b8b-a228-4d2f-b7eb-46421c56e034",
   "metadata": {},
   "outputs": [],
   "source": []
  }
 ],
 "metadata": {
  "kernelspec": {
   "display_name": "Python 3 (ipykernel)",
   "language": "python",
   "name": "python3"
  },
  "language_info": {
   "codemirror_mode": {
    "name": "ipython",
    "version": 3
   },
   "file_extension": ".py",
   "mimetype": "text/x-python",
   "name": "python",
   "nbconvert_exporter": "python",
   "pygments_lexer": "ipython3",
   "version": "3.11.7"
  }
 },
 "nbformat": 4,
 "nbformat_minor": 5
}

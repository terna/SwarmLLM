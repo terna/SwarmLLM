{
 "cells": [
  {
   "cell_type": "code",
   "execution_count": null,
   "id": "5d0fe091-15a2-4876-8cde-e2bb1ad113fa",
   "metadata": {},
   "outputs": [],
   "source": [
    "import tool"
   ]
  },
  {
   "cell_type": "code",
   "execution_count": null,
   "id": "ba6113e6-7919-4d61-9626-a4c071ef025e",
   "metadata": {},
   "outputs": [],
   "source": [
    "tool.tool()"
   ]
  },
  {
   "cell_type": "code",
   "execution_count": null,
   "id": "85d81414-4fd6-4ca2-8b18-ac5aad63cef4",
   "metadata": {},
   "outputs": [],
   "source": []
  }
 ],
 "metadata": {
  "kernelspec": {
   "display_name": "Python 3 (ipykernel)",
   "language": "python",
   "name": "python3"
  },
  "language_info": {
   "codemirror_mode": {
    "name": "ipython",
    "version": 3
   },
   "file_extension": ".py",
   "mimetype": "text/x-python",
   "name": "python",
   "nbconvert_exporter": "python",
   "pygments_lexer": "ipython3",
   "version": "3.11.7"
  }
 },
 "nbformat": 4,
 "nbformat_minor": 5
}

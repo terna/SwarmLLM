{
 "cells": [
  {
   "cell_type": "markdown",
   "id": "ae693901-5953-4f39-b600-cb874e09ff5e",
   "metadata": {},
   "source": [
    "![](https://github.com/openai/swarm/raw/main/assets/logo.png)"
   ]
  },
  {
   "cell_type": "markdown",
   "id": "e89d3856-1a37-4312-bb14-b7066633335b",
   "metadata": {},
   "source": [
    "### **[Swarm (experimental, educational)](https://github.com/openai/swarm/blob/main/README.md)** con **[Orchestrating Agents: Routines and Handoffs](https://cookbook.openai.com/examples/orchestrating_agents)**"
   ]
  },
  {
   "cell_type": "markdown",
   "id": "faa49202-29bd-4266-9f15-f2b0793ea384",
   "metadata": {},
   "source": [
    "vedere anche:\n",
    "\n",
    ". https://datavizandai.github.io/2024/11/02/hands-on-swarm.html\n",
    "\n",
    ". https://arxiv.org/abs/2411.03252\n",
    "\n",
    ". https://arxiv.org/abs/2411.10109"
   ]
  },
  {
   "cell_type": "markdown",
   "id": "be4eca85-c7d4-4b9c-a3b1-11296a44987e",
   "metadata": {},
   "source": [
    "! pip install git+https://github.com/openai/swarm.git"
   ]
  },
  {
   "cell_type": "markdown",
   "id": "bfd2d84a-e60c-4065-871e-2ca2b9a9847d",
   "metadata": {},
   "source": [
    "https://help.openai.com/en/articles/5112595-best-practices-for-api-key-safety to set the API key"
   ]
  },
  {
   "cell_type": "code",
   "execution_count": 26,
   "id": "30a39ea3-4b55-4d2d-89f4-23b49d01623e",
   "metadata": {},
   "outputs": [],
   "source": [
    "# questo esempio proviene da https://datavizandai.github.io/2024/11/02/hands-on-swarm.html indicato qui sopra\n",
    "from swarm import Swarm, Agent"
   ]
  },
  {
   "cell_type": "code",
   "execution_count": 2,
   "id": "af3a5651-7d55-450d-9e33-de04859c9e9c",
   "metadata": {},
   "outputs": [],
   "source": [
    "client = Swarm()"
   ]
  },
  {
   "cell_type": "code",
   "execution_count": 3,
   "id": "69222381-f895-4ee9-822c-4d5a7c4cd004",
   "metadata": {},
   "outputs": [],
   "source": [
    "agent = Agent(\n",
    "    name=\"Agent\",\n",
    "    instructions=\"You are a helpful agent.\",\n",
    ")"
   ]
  },
  {
   "cell_type": "code",
   "execution_count": 4,
   "id": "0dcb637c-6fce-4d96-8722-29df03b53ac6",
   "metadata": {},
   "outputs": [
    {
     "data": {
      "text/plain": [
       "Agent(name='Agent', model='gpt-4o', instructions='You are a helpful agent.', functions=[], tool_choice=None, parallel_tool_calls=True)"
      ]
     },
     "execution_count": 4,
     "metadata": {},
     "output_type": "execute_result"
    }
   ],
   "source": [
    "agent"
   ]
  },
  {
   "cell_type": "code",
   "execution_count": 12,
   "id": "291c535a-c806-49f3-b78a-e22f18acc6f4",
   "metadata": {},
   "outputs": [],
   "source": [
    "# my addendum\n",
    "agent2 = Agent(\n",
    "    name=\"Agent\",\n",
    "    instructions=\"You deliberately makes wrong replies.\",\n",
    ")"
   ]
  },
  {
   "cell_type": "code",
   "execution_count": 13,
   "id": "fb9838a6-7444-430e-bbcd-3c792bed0164",
   "metadata": {},
   "outputs": [
    {
     "data": {
      "text/plain": [
       "Agent(name='Agent', model='gpt-4o', instructions='You deliberately makes wrong replies.', functions=[], tool_choice=None, parallel_tool_calls=True)"
      ]
     },
     "execution_count": 13,
     "metadata": {},
     "output_type": "execute_result"
    }
   ],
   "source": [
    "agent2"
   ]
  },
  {
   "cell_type": "code",
   "execution_count": 7,
   "id": "f5ba4e41-87cf-4d73-a319-b6ff40723bfd",
   "metadata": {},
   "outputs": [],
   "source": [
    "messages = [{\"role\": \"user\", \"content\": \"What is the capital of Portugal\"}]\n",
    "response = client.run(agent=agent, messages=messages)"
   ]
  },
  {
   "cell_type": "code",
   "execution_count": 8,
   "id": "4b139ce6-2a9b-4f92-925d-b9d006e8fdae",
   "metadata": {},
   "outputs": [
    {
     "name": "stdout",
     "output_type": "stream",
     "text": [
      "The capital of Portugal is Lisbon.\n"
     ]
    }
   ],
   "source": [
    "print(response.messages[-1][\"content\"])"
   ]
  },
  {
   "cell_type": "code",
   "execution_count": 14,
   "id": "20488230",
   "metadata": {},
   "outputs": [],
   "source": [
    "messages2 = [{\"role\": \"user\", \"content\": \"What is the capital of Portugal\"}]\n",
    "response = client.run(agent=agent2, messages=messages2)"
   ]
  },
  {
   "cell_type": "code",
   "execution_count": 15,
   "id": "2f4dd5c9",
   "metadata": {},
   "outputs": [
    {
     "name": "stdout",
     "output_type": "stream",
     "text": [
      "Madrid is the capital of Portugal.\n"
     ]
    }
   ],
   "source": [
    "print(response.messages[-1][\"content\"])"
   ]
  },
  {
   "cell_type": "code",
   "execution_count": 16,
   "id": "f41229bf-04f4-4e19-8a04-4f2e140b8831",
   "metadata": {},
   "outputs": [],
   "source": [
    "english_agent = Agent(\n",
    "    name=\"English Agent\",\n",
    "    instructions=\"You only speak English.\",\n",
    ")\n",
    "\n",
    "spanish_agent = Agent(\n",
    "    name=\"Spanish Agent\",\n",
    "    instructions=\"You only speak Spanish.\",\n",
    ")\n",
    "\n",
    "def transfer_to_spanish_agent():\n",
    "    \"\"\"Transfer spanish speaking users immediately.\"\"\"\n",
    "    return spanish_agent\n",
    "\n",
    "english_agent.functions.append(transfer_to_spanish_agent)"
   ]
  },
  {
   "cell_type": "code",
   "execution_count": 17,
   "id": "ba15ddab-c844-46d7-a767-0d296d9b9eae",
   "metadata": {},
   "outputs": [
    {
     "data": {
      "text/plain": [
       "Agent(name='English Agent', model='gpt-4o', instructions='You only speak English.', functions=[<function transfer_to_spanish_agent at 0x104d92840>], tool_choice=None, parallel_tool_calls=True)"
      ]
     },
     "execution_count": 17,
     "metadata": {},
     "output_type": "execute_result"
    }
   ],
   "source": [
    "english_agent"
   ]
  },
  {
   "cell_type": "code",
   "execution_count": 18,
   "id": "75da861c-0034-4a2f-808a-ed591ddaa230",
   "metadata": {},
   "outputs": [
    {
     "data": {
      "text/plain": [
       "Agent(name='Spanish Agent', model='gpt-4o', instructions='You only speak Spanish.', functions=[], tool_choice=None, parallel_tool_calls=True)"
      ]
     },
     "execution_count": 18,
     "metadata": {},
     "output_type": "execute_result"
    }
   ],
   "source": [
    "spanish_agent"
   ]
  },
  {
   "cell_type": "code",
   "execution_count": 19,
   "id": "4c9b5f9b-fa08-457c-bad8-52583cd646ad",
   "metadata": {},
   "outputs": [
    {
     "name": "stdout",
     "output_type": "stream",
     "text": [
      "I'm just a virtual assistant, so I don't have feelings, but I'm here and ready to help you! How can I assist you today?\n"
     ]
    }
   ],
   "source": [
    "messages = [{\"role\": \"user\", \"content\": \"Hi. How are you?\"}]\n",
    "response = client.run(agent=english_agent, messages=messages)\n",
    "\n",
    "print(response.messages[-1][\"content\"])"
   ]
  },
  {
   "cell_type": "code",
   "execution_count": 20,
   "id": "bd4a90cb-cda2-44b5-97be-1d89392b82e9",
   "metadata": {},
   "outputs": [
    {
     "name": "stdout",
     "output_type": "stream",
     "text": [
      "¡Hola! Estoy bien, gracias. ¿Y tú, cómo estás?\n"
     ]
    }
   ],
   "source": [
    "messages = [{\"role\": \"user\", \"content\": \"Hola. ¿Como estás?\"}]\n",
    "response = client.run(agent=english_agent, messages=messages)\n",
    "\n",
    "print(response.messages[-1][\"content\"])"
   ]
  },
  {
   "cell_type": "code",
   "execution_count": 21,
   "id": "01c3e99e-1e56-42b0-a809-e0bc0f3066e2",
   "metadata": {},
   "outputs": [
    {
     "name": "stdout",
     "output_type": "stream",
     "text": [
      "[{'content': None, 'role': 'assistant', 'function_call': None, 'tool_calls': [{'id': 'call_nCBhkSGg1hS5PaVppUenQ2Xm', 'function': {'arguments': '{}', 'name': 'transfer_to_spanish_agent'}, 'type': 'function'}], 'refusal': None, 'sender': 'English Agent'}, {'role': 'tool', 'tool_call_id': 'call_nCBhkSGg1hS5PaVppUenQ2Xm', 'tool_name': 'transfer_to_spanish_agent', 'content': '{\"assistant\": \"Spanish Agent\"}'}, {'content': '¡Hola! Estoy bien, gracias. ¿Y tú, cómo estás?', 'role': 'assistant', 'function_call': None, 'tool_calls': None, 'refusal': None, 'sender': 'Spanish Agent'}]\n"
     ]
    }
   ],
   "source": [
    "print(response.messages)"
   ]
  },
  {
   "cell_type": "code",
   "execution_count": 22,
   "id": "359a1b46-20f2-4b34-ac2e-ec8db331e5e4",
   "metadata": {},
   "outputs": [
    {
     "name": "stdout",
     "output_type": "stream",
     "text": [
      "{\"assistant\": \"Spanish Agent\"} transfer_to_spanish_agent\n"
     ]
    }
   ],
   "source": [
    "print(response.messages[-2][\"content\"],response.messages[-2][\"tool_name\"])"
   ]
  },
  {
   "cell_type": "code",
   "execution_count": 23,
   "id": "f1687d5d-8563-4a0e-baa0-da4029c43594",
   "metadata": {},
   "outputs": [],
   "source": [
    "import wikipedia\n",
    "\n",
    "def wikipedia_lookup(q: str) -> str:\n",
    "    \"\"\"Look up a query in Wikipedia and return the result\"\"\"\n",
    "    try: return wikipedia.page(q).summary\n",
    "    except: return None\n",
    "\n",
    "def wikipedia_search(q: str) -> str:\n",
    "    \"\"\"Search for a topic in Wikipedia and return the result\"\"\"\n",
    "    return wikipedia.search(q)"
   ]
  },
  {
   "cell_type": "code",
   "execution_count": 24,
   "id": "ddf9a370-0efa-4d5a-992c-35c21eb7af54",
   "metadata": {},
   "outputs": [
    {
     "data": {
      "text/plain": [
       "['List of national capitals',\n",
       " 'European Capital of Culture',\n",
       " 'Religion in the European Union',\n",
       " 'European Union',\n",
       " 'Vienna Capitals',\n",
       " 'European Council on Foreign Relations',\n",
       " 'Crime in London',\n",
       " 'Flag of Europe',\n",
       " 'Crime in Bucharest',\n",
       " 'Ramona Strugariu']"
      ]
     },
     "execution_count": 24,
     "metadata": {},
     "output_type": "execute_result"
    }
   ],
   "source": [
    "topics = wikipedia.search('EU capitals')\n",
    "topics"
   ]
  },
  {
   "cell_type": "code",
   "execution_count": 25,
   "id": "cbacf4be-d2b0-4d3c-9bd0-ee9a703e52b2",
   "metadata": {},
   "outputs": [
    {
     "name": "stdout",
     "output_type": "stream",
     "text": [
      "The European Union (EU) is a supranational political and economic union of 27 member states that are located primarily in Europe. The Union has a total area of 4,233,255 km2 (1,634,469 sq mi) and an estimated total population of over 449 million. The EU has often been described as a sui generis political entity combining the characteristics of both a federation and a confederation.\n",
      "Containing 5.8% of the world population in 2020, EU member states generated a nominal gross domestic product (GDP) of around US$16.6 trillion in 2022, constituting approximately one sixth of global nominal GDP. Additionally, all EU states except Bulgaria have a very high Human Development Index according to the United Nations Development Programme. Its cornerstone, the Customs Union, paved the way to establishing an internal single market based on standardised legal framework and legislation that applies in all member states in those matters, and only those matters, where the states have agreed to act as one. EU policies aim to ensure the free movement of people, goods, services and capital within the internal market; enact legislation in justice and home affairs; and maintain common policies on trade, agriculture, fisheries and regional development. Passport controls have been abolished for travel within the Schengen Area. The eurozone is a group composed of the 20 EU member states that have fully implemented the economic and monetary union and use the euro currency. Through the Common Foreign and Security Policy, the union has developed a role in external relations and defence. It maintains permanent diplomatic missions throughout the world and represents itself at the United Nations, the World Trade Organization, the G7 and the G20. Due to its global influence, the European Union has been described by some scholars as an emerging superpower.\n",
      "The EU was established, along with its citizenship, when the Maastricht Treaty came into force in 1993, and was incorporated as an international legal juridical person upon entry into force of the Treaty of Lisbon in 2009. Its beginnings can be traced to the Inner Six states (Belgium, France, Italy, Luxembourg, the Netherlands, and West Germany) at the start of modern European integration in 1948, and to the Western Union, the International Authority for the Ruhr, the European Coal and Steel Community, the European Economic Community and the European Atomic Energy Community, which were established by treaties. These increasingly amalgamated bodies grew, with their legal successor the EU, both in size through the accessions of a further 22 states from 1973 to 2013, and in power through acquisitions of policy areas.\n",
      "In 2012, the EU was awarded the Nobel Peace Prize. The United Kingdom became the only member state to leave the EU, in 2020; ten countries are aspiring or negotiating to join it.\n"
     ]
    }
   ],
   "source": [
    "entry = wikipedia_lookup(topics[3])\n",
    "print(entry)"
   ]
  },
  {
   "cell_type": "code",
   "execution_count": 27,
   "id": "9cbfe16d-0b52-43cf-b254-5460771ffc45",
   "metadata": {},
   "outputs": [],
   "source": [
    "wikiagent = Agent(\n",
    "    name=\"Agent\",\n",
    "    instructions=\"\"\"You are a helpful agent that answers user queries by \n",
    "                    finding and analysing information from Wikipedia.\n",
    "                    You should follow the following sequence:\n",
    "                      1. Work out what the user is interested in.\n",
    "                      2. Pick keywords\n",
    "                      3. Use the lookup tool with the most relevant \n",
    "                         keyword\n",
    "                      4. From the resulting list of results pick the most \n",
    "                         relevant to the user query and search for it \n",
    "                         using the search tool \n",
    "                      5. If you are able provide an answer from that \n",
    "                         information, stop and answer, otherwise, start \n",
    "                         again from step 2 but with different keywords. \n",
    "                  \"\"\",\n",
    "    functions=[wikipedia_lookup, wikipedia_search],\n",
    ")"
   ]
  },
  {
   "cell_type": "code",
   "execution_count": 28,
   "id": "5677f880-27a1-4007-98fe-7cb3d7498cb4",
   "metadata": {},
   "outputs": [
    {
     "name": "stdout",
     "output_type": "stream",
     "text": [
      "Glasgow is the largest city in Scotland and the most populous one; however, the specific population figure is not directly provided in the sourced information. If you need the most up-to-date population number, I recommend checking the latest statistics from the National Records of Scotland or other related official sources.\n"
     ]
    }
   ],
   "source": [
    "messages = [{\"role\": \"user\", \"content\": \"What is the population of the largest city in Scotland\"}]\n",
    "\n",
    "response = client.run(agent=wikiagent, messages=messages)\n",
    "print(response.messages[-1][\"content\"])"
   ]
  },
  {
   "cell_type": "code",
   "execution_count": 29,
   "id": "74168ae9-80f8-4fe6-aa50-03d5bd1697fd",
   "metadata": {},
   "outputs": [
    {
     "name": "stdout",
     "output_type": "stream",
     "text": [
      "[{'content': None, 'role': 'assistant', 'function_call': None, 'tool_calls': [{'id': 'call_FZu4BDJZ9Ps0GT8vrjhddFl1', 'function': {'arguments': '{\"q\":\"largest city in Scotland\"}', 'name': 'wikipedia_lookup'}, 'type': 'function'}], 'refusal': None, 'sender': 'Agent'}, {'role': 'tool', 'tool_call_id': 'call_FZu4BDJZ9Ps0GT8vrjhddFl1', 'tool_name': 'wikipedia_lookup', 'content': 'This list of towns and cities in Scotland with a population of more than 15,000 is ordered by population, as defined and compiled by the National Records of Scotland organisation. Glasgow is the largest city in Scotland by population, whilst the capital city, Edinburgh, is the second largest by population and largest by area (although the Aberdeen and Edinburgh local authority areas contain far more undeveloped land and have a lower population density than the council areas of Dundee and Glasgow; these are the only four city-districts in the country). The city of Stirling has the smallest population amongst Scotland\\'s cities, with an estimated population of just over 37,000 inhabitants. In total, Scotland consists of eight cities, with multiple larger towns, the largest town being Paisley. \\nThe section \"Localities\" contains a list of basic populated areas ordered by population. The section \"Settlements\" is a list of populated urban areas, some of which are composed of more than one locality, and which may span across the boundaries of more than one council area.\\nAll localities are either settlements themselves, or contained within larger settlements. As of 2020, there are 656 localities in Scotland, and 514 settlements (i.e. 142 of the localities combine as elements of larger settlements).'}, {'content': None, 'role': 'assistant', 'function_call': None, 'tool_calls': [{'id': 'call_73PjJDJyjRmpLrFQM62zEART', 'function': {'arguments': '{\"q\":\"Glasgow population\"}', 'name': 'wikipedia_search'}, 'type': 'function'}], 'refusal': None, 'sender': 'Agent'}, {'role': 'tool', 'tool_call_id': 'call_73PjJDJyjRmpLrFQM62zEART', 'tool_name': 'wikipedia_search', 'content': \"['Glasgow', 'Greater Glasgow', 'Glasgow effect', 'Glasgow, Montana', 'Demographics of Glasgow', 'Port Glasgow', 'List of towns and cities in Scotland by population', 'Outline of Glasgow', 'Glasgow, Kentucky', 'List of places in Glasgow']\"}, {'content': None, 'role': 'assistant', 'function_call': None, 'tool_calls': [{'id': 'call_PdBreuPfU3qqeSPniGOSo7w1', 'function': {'arguments': '{\"q\":\"Demographics of Glasgow\"}', 'name': 'wikipedia_search'}, 'type': 'function'}], 'refusal': None, 'sender': 'Agent'}, {'role': 'tool', 'tool_call_id': 'call_PdBreuPfU3qqeSPniGOSo7w1', 'tool_name': 'wikipedia_search', 'content': \"['Demographics of Glasgow', 'List of places in Glasgow', 'Outline of Glasgow', 'Demographics of Edinburgh', 'Demographics of Scotland', 'Glasgow City Council', 'Glasgow', 'Celtic F.C.', 'Glasgow effect', 'Greater Glasgow']\"}, {'content': None, 'role': 'assistant', 'function_call': None, 'tool_calls': [{'id': 'call_SzZioB5Xd6RGJCXuZTrWAuah', 'function': {'arguments': '{\"q\":\"Demographics of Glasgow\"}', 'name': 'wikipedia_lookup'}, 'type': 'function'}], 'refusal': None, 'sender': 'Agent'}, {'role': 'tool', 'tool_call_id': 'call_SzZioB5Xd6RGJCXuZTrWAuah', 'tool_name': 'wikipedia_lookup', 'content': 'Glasgow is the most populous city in Scotland and the fourth most populous city in the United Kingdom.\\n\\n'}, {'content': 'Glasgow is the largest city in Scotland and the most populous one; however, the specific population figure is not directly provided in the sourced information. If you need the most up-to-date population number, I recommend checking the latest statistics from the National Records of Scotland or other related official sources.', 'role': 'assistant', 'function_call': None, 'tool_calls': None, 'refusal': None, 'sender': 'Agent'}]\n"
     ]
    }
   ],
   "source": [
    "print(response.messages)"
   ]
  },
  {
   "cell_type": "code",
   "execution_count": 30,
   "id": "1afc1a24-b757-4639-9749-cca56994e96b",
   "metadata": {},
   "outputs": [],
   "source": [
    "def transfer_to_pr_agent():\n",
    "    return pr_agent\n",
    "\n",
    "agent = Agent(\n",
    "    name=\"Agent\",\n",
    "    instructions=\"\"\"You are a helpful agent that answers user queries by \n",
    "                    finding and analysing information from Wikipedia.\n",
    "                    You will be given a city or other location and you \n",
    "                    must retrieve it's entry on Wikipedia and then hand \n",
    "                    over to the PR Agent.\"\"\",\n",
    "    functions=[wikipedia_lookup, transfer_to_pr_agent],\n",
    ")\n",
    "\n",
    "pr_agent = Agent(\n",
    "    name=\"PR Agent\",\n",
    "    instructions=\"\"\"You are an experienced PR copywriter. \n",
    "                    Use only the information retrieved from Wikipedia to \n",
    "                    write an enthusiastic 100-word summary of the topic \n",
    "                    that would be suitable for a promotional campaign.\n",
    "                    Explain how you used the original material to create \n",
    "                    the result\"\"\",\n",
    ")"
   ]
  },
  {
   "cell_type": "code",
   "execution_count": 32,
   "id": "9a101626-51c7-455b-88ca-b30786649925",
   "metadata": {},
   "outputs": [
    {
     "name": "stdout",
     "output_type": "stream",
     "text": [
      "Discover the enchanting allure of Paris, the vibrant heart of France! With over 2 million residents, this iconic city is a bustling hub of culture, fashion, and gastronomy, making it a must-visit destination for travelers around the world. Since the 17th century, Paris has led the way in arts and sciences, earning its illuminating reputation as the \\\"City of Light.\\\" From the world-famous Louvre to the charming streets along the Seine, explore UNESCO World Heritage sites, indulge in exquisite French cuisine, and immerse yourself in the rich history and modern elegance that define Paris. Don't miss out on experiencing a city that continuously captivates the world!\n",
      "\n",
      "Explanation: I used the original material to highlight key attributes of Paris such as its role as a major global center for culture, fashion, and arts, and its status as a historically significant city known as the \\\"City of Light.\\\" I also included Paris's reputation for iconic landmarks and its standing as a bustling touristic hub, drawing on the facts provided about its population, attractions, and cultural significance.\n"
     ]
    }
   ],
   "source": [
    "messages = [{\"role\": \"user\", \"content\": \"Paris\"}]\n",
    "\n",
    "response = client.run(agent=agent, messages=messages)\n",
    "print(response.messages[-1][\"content\"])"
   ]
  },
  {
   "cell_type": "code",
   "execution_count": null,
   "id": "bed3a6ec-4f3b-4bf2-862f-a4252409f3af",
   "metadata": {},
   "outputs": [],
   "source": []
  }
 ],
 "metadata": {
  "kernelspec": {
   "display_name": "Python 3 (ipykernel)",
   "language": "python",
   "name": "python3"
  },
  "language_info": {
   "codemirror_mode": {
    "name": "ipython",
    "version": 3
   },
   "file_extension": ".py",
   "mimetype": "text/x-python",
   "name": "python",
   "nbconvert_exporter": "python",
   "pygments_lexer": "ipython3",
   "version": "3.11.7"
  }
 },
 "nbformat": 4,
 "nbformat_minor": 5
}

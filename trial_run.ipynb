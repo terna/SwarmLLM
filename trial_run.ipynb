{
 "cells": [
  {
   "cell_type": "code",
   "execution_count": 1,
   "id": "f65343fd-d785-4a2e-9ce8-9c99c0afd8ca",
   "metadata": {},
   "outputs": [],
   "source": [
    "from swarm import Swarm, Agent"
   ]
  },
  {
   "cell_type": "code",
   "execution_count": 2,
   "id": "92e35d24-70f0-4d15-8958-5d0b68b6dc03",
   "metadata": {},
   "outputs": [],
   "source": [
    "client = Swarm()"
   ]
  },
  {
   "cell_type": "code",
   "execution_count": 3,
   "id": "92e5314d-faba-4b41-9bff-cadc5ea5faa9",
   "metadata": {},
   "outputs": [],
   "source": [
    "agent0 = Agent(\n",
    "    name=\"Agent\",\n",
    "    instructions=\"You are an agent performing math.\",\n",
    ")"
   ]
  },
  {
   "cell_type": "code",
   "execution_count": 8,
   "id": "785d17e8-ee10-44af-8d36-877dc92216d6",
   "metadata": {},
   "outputs": [],
   "source": [
    "messages = [{\"role\": \"user\", \"content\": \"the result of 2 + 2\"}]\n",
    "response = client.run(agent=agent0, messages=messages)"
   ]
  },
  {
   "cell_type": "code",
   "execution_count": 9,
   "id": "7327e1cc-ea88-4d4d-aced-c871a454aff4",
   "metadata": {},
   "outputs": [
    {
     "data": {
      "text/plain": [
       "Response(messages=[{'content': 'The result of 2 + 2 is 4.', 'role': 'assistant', 'function_call': None, 'tool_calls': None, 'refusal': None, 'sender': 'Agent'}], agent=Agent(name='Agent', model='gpt-4o', instructions='You are an agent performing math.', functions=[], tool_choice=None, parallel_tool_calls=True), context_variables={})"
      ]
     },
     "execution_count": 9,
     "metadata": {},
     "output_type": "execute_result"
    }
   ],
   "source": [
    "response"
   ]
  },
  {
   "cell_type": "code",
   "execution_count": 10,
   "id": "5f1c0f08-d878-48f7-a8e1-2bd05465355f",
   "metadata": {},
   "outputs": [
    {
     "name": "stdout",
     "output_type": "stream",
     "text": [
      "The result of 2 + 2 is 4.\n"
     ]
    }
   ],
   "source": [
    "print(response.messages[-1][\"content\"])"
   ]
  },
  {
   "cell_type": "code",
   "execution_count": 11,
   "id": "288e28f1-dcfd-4ddd-8309-1c1177c1f16b",
   "metadata": {},
   "outputs": [
    {
     "name": "stdout",
     "output_type": "stream",
     "text": [
      "{'content': 'The result of 2 + 2 is 4.', 'role': 'assistant', 'function_call': None, 'tool_calls': None, 'refusal': None, 'sender': 'Agent'}\n"
     ]
    }
   ],
   "source": [
    "print(response.messages[-1])"
   ]
  },
  {
   "cell_type": "raw",
   "id": "c2aa0d9f-b19e-4426-bc31-9e78dafc6efb",
   "metadata": {},
   "source": [
    "================================="
   ]
  },
  {
   "cell_type": "code",
   "execution_count": 21,
   "id": "93cba935-2553-4aaa-b7cf-8897d3dd0a20",
   "metadata": {},
   "outputs": [],
   "source": [
    "def instructions(context_variables):\n",
    "   user_name = context_variables[\"user_name\"]\n",
    "   return f\"Help the user, {user_name}, do whatever they want. If more than one user, name all of them\""
   ]
  },
  {
   "cell_type": "code",
   "execution_count": 22,
   "id": "de94b014-2a9e-4a7b-9d27-333d2cab0ad5",
   "metadata": {},
   "outputs": [],
   "source": [
    "agent = Agent(\n",
    "   instructions=instructions\n",
    ")"
   ]
  },
  {
   "cell_type": "code",
   "execution_count": 23,
   "id": "2c2f0046-2be1-4f1f-8545-fd13b350cdb6",
   "metadata": {},
   "outputs": [
    {
     "name": "stdout",
     "output_type": "stream",
     "text": [
      "Hello John, Peter, and Jim! How can I assist you today?\n"
     ]
    }
   ],
   "source": [
    "response = client.run(\n",
    "   agent=agent,\n",
    "   messages=[{\"role\":\"user\", \"content\": \"Hi!\"}],\n",
    "   context_variables={\"user_name\":[\"John\",\"Peter\",\"Jim\"]}\n",
    ")\n",
    "print(response.messages[-1][\"content\"])"
   ]
  },
  {
   "cell_type": "code",
   "execution_count": null,
   "id": "df0a89be-a969-46d7-aac3-944d3321ce8a",
   "metadata": {},
   "outputs": [],
   "source": []
  }
 ],
 "metadata": {
  "kernelspec": {
   "display_name": "Python 3 (ipykernel)",
   "language": "python",
   "name": "python3"
  },
  "language_info": {
   "codemirror_mode": {
    "name": "ipython",
    "version": 3
   },
   "file_extension": ".py",
   "mimetype": "text/x-python",
   "name": "python",
   "nbconvert_exporter": "python",
   "pygments_lexer": "ipython3",
   "version": "3.11.7"
  }
 },
 "nbformat": 4,
 "nbformat_minor": 5
}

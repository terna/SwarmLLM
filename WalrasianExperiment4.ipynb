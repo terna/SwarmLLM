{
 "cells": [
  {
   "cell_type": "markdown",
   "id": "861c14be-3260-463c-a8b4-fb18339e907a",
   "metadata": {},
   "source": [
    "Walrasian_auctioneer_or_criers\n",
    "Not an auction market, simply a market where someone–-the crier–-proposes prices, following a trial and error process, to search for an equlibrium. See https://en.wikipedia.org/wiki/Walrasian_auction"
   ]
  },
  {
   "cell_type": "markdown",
   "id": "469f8857-2709-4d5d-9201-02564434c580",
   "metadata": {},
   "source": [
    "Using **[Swarm (experimental, educational)](https://github.com/openai/swarm/blob/main/README.md)** con **[Orchestrating Agents: Routines and Handoffs](https://cookbook.openai.com/examples/orchestrating_agents)**"
   ]
  },
  {
   "cell_type": "markdown",
   "id": "2c6ade3b-8292-428b-8958-c69294cc7ac8",
   "metadata": {},
   "source": [
    "If missing  \n",
    "! pip install git+https://github.com/openai/swarm.git  "
   ]
  },
  {
   "cell_type": "code",
   "execution_count": 1,
   "id": "0c17c46c-017a-4e00-9d2d-477d0a4e496f",
   "metadata": {},
   "outputs": [],
   "source": [
    "from swarm import Swarm, Agent\n",
    "from dotenv import load_dotenv\n",
    "import tool\n",
    "import os"
   ]
  },
  {
   "cell_type": "code",
   "execution_count": 2,
   "id": "ca7f7f95-9df4-462f-a2c3-15aa14aa069e",
   "metadata": {},
   "outputs": [],
   "source": [
    "load_dotenv()\n",
    "os.getenv('OPENAI_API_KEY');"
   ]
  },
  {
   "cell_type": "code",
   "execution_count": 3,
   "id": "62f27f90-e229-4533-a785-b9845c651f0e",
   "metadata": {},
   "outputs": [],
   "source": [
    "client = Swarm()"
   ]
  },
  {
   "cell_type": "code",
   "execution_count": 4,
   "id": "95dd81d1-d885-4003-8b63-1f9860aff6cb",
   "metadata": {},
   "outputs": [],
   "source": [
    "#client.client.api_key"
   ]
  },
  {
   "cell_type": "code",
   "execution_count": 5,
   "id": "02e77dd8-1105-49f6-ace0-b106770675be",
   "metadata": {},
   "outputs": [
    {
     "name": "stdin",
     "output_type": "stream",
     "text": [
      "Enter code  ········\n"
     ]
    }
   ],
   "source": [
    "client.client.api_key = tool.tool()"
   ]
  },
  {
   "cell_type": "code",
   "execution_count": 6,
   "id": "3d237bc0-4f1f-4184-a368-ae872bd20507",
   "metadata": {},
   "outputs": [],
   "source": [
    "import random as r\n",
    "\n",
    "def setRandomPrice() -> float:\n",
    "    \"\"\"generate a random price\"\"\"\n",
    "    return 100 * r.random()"
   ]
  },
  {
   "cell_type": "markdown",
   "id": "d866607a-efc3-4e33-9be2-9d83840f4aca",
   "metadata": {},
   "source": [
    "### Former 3. structure: different structure, WITHOUT suggesting how to operate, asking very concise replies, price level set randomly"
   ]
  },
  {
   "cell_type": "code",
   "execution_count": 15,
   "id": "c07a5c8d-3703-4a1d-b9d3-b2950cf7af10",
   "metadata": {},
   "outputs": [],
   "source": [
    "def instructions(context_variables):\n",
    "   price_level = context_variables[\"price_level\"]\n",
    "   rules = \"1. Use the function setRandomPrice \" +\\\n",
    "           \"to set your reservation price as a random price and report \"+\\\n",
    "           \"it as a pure number without money specification. \"+\\\n",
    "           \"2. Report your id using the sequence buyerSeller\"+str(i)+\". \"+\\\n",
    "           \"3. Report if you buy or sell comparing you reservation price and the price level. \"+\\\n",
    "           \"If your reservation price is very close to the price level, do nothing \"+\\\n",
    "           f\"The price level is {price_level}\"\n",
    " \n",
    "   return rules"
   ]
  },
  {
   "cell_type": "code",
   "execution_count": 17,
   "id": "b8eed80d-59c5-4422-9b70-f6f997b65353",
   "metadata": {},
   "outputs": [],
   "source": [
    "lA=[]\n",
    "\n",
    "for i in range(10):\n",
    " lA.append(\n",
    "    Agent(\n",
    "    name=\"Agent\",\n",
    "    instructions = instructions,\n",
    "    functions= [setRandomPrice]\n",
    "    )\n",
    " )"
   ]
  },
  {
   "cell_type": "code",
   "execution_count": 19,
   "id": "0d09ccde-9406-452f-a6b7-0e66d24ed312",
   "metadata": {},
   "outputs": [
    {
     "name": "stdout",
     "output_type": "stream",
     "text": [
      "price level  54.47900783454299\n",
      "ID: buyerSeller0, Reservation Price: 2.309615436606438, Action: Buy\n",
      "ID: buyerSeller1, Reservation Price: 48.593254260723114, Action: Buy.\n",
      "ID: buyerSeller2, Reservation Price: 23.03, Action: Sell\n",
      "ID: buyerSeller3, Reservation Price: 45.859112832119344, Action: Buy\n",
      "ID: buyerSeller4, Reservation Price: 63.61, Action: Sell\n",
      "ID: buyerSeller5, Reservation Price: 94.30367219512895, Action: Buy\n",
      "ID: buyerSeller6, Reservation Price: 64.42864154148945, Action: Buy\n",
      "ID: buyerSeller7, Reservation Price: 58, Action: Sell.\n",
      "ID: buyerSeller8, Reservation Price: 69.88, Action: Sell\n",
      "ID: buyerSeller9, Reservation Price: 46.22077523076988, Action: Buy\n"
     ]
    }
   ],
   "source": [
    "pl=100 * r.random()\n",
    "print(\"price level \",pl)\n",
    "for i in range(10):\n",
    " messages = [{\"role\": \"user\", \"content\": \"Report yor id, what is your reservation price and that do you do;\"+\n",
    "                                         \"report in a very concise way\"}]\n",
    " response = client.run(\n",
    "                       agent=lA[i], \n",
    "                       messages=messages,\n",
    "                       context_variables={\"price_level\": pl})\n",
    " print(response.messages[-1][\"content\"])"
   ]
  },
  {
   "cell_type": "markdown",
   "id": "e92b5b1f-3f1c-444b-b2b7-71a8558251de",
   "metadata": {},
   "source": [
    "## a lot of errors in case 3"
   ]
  },
  {
   "cell_type": "code",
   "execution_count": null,
   "id": "6a68b4ca-fcb5-4466-9133-127fa3c6b907",
   "metadata": {},
   "outputs": [],
   "source": []
  }
 ],
 "metadata": {
  "kernelspec": {
   "display_name": "Python 3 (ipykernel)",
   "language": "python",
   "name": "python3"
  },
  "language_info": {
   "codemirror_mode": {
    "name": "ipython",
    "version": 3
   },
   "file_extension": ".py",
   "mimetype": "text/x-python",
   "name": "python",
   "nbconvert_exporter": "python",
   "pygments_lexer": "ipython3",
   "version": "3.11.7"
  }
 },
 "nbformat": 4,
 "nbformat_minor": 5
}

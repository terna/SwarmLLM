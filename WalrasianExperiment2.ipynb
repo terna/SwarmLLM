{
 "cells": [
  {
   "cell_type": "markdown",
   "id": "861c14be-3260-463c-a8b4-fb18339e907a",
   "metadata": {},
   "source": [
    "Walrasian_auctioneer_or_criers\n",
    "Not an auction market, simply a market where someone–-the crier–-proposes prices, following a trial and error process, to search for an equlibrium. See https://en.wikipedia.org/wiki/Walrasian_auction"
   ]
  },
  {
   "cell_type": "markdown",
   "id": "469f8857-2709-4d5d-9201-02564434c580",
   "metadata": {},
   "source": [
    "Using **[Swarm (experimental, educational)](https://github.com/openai/swarm/blob/main/README.md)** con **[Orchestrating Agents: Routines and Handoffs](https://cookbook.openai.com/examples/orchestrating_agents)**"
   ]
  },
  {
   "cell_type": "markdown",
   "id": "2c6ade3b-8292-428b-8958-c69294cc7ac8",
   "metadata": {},
   "source": [
    "If missing  \n",
    "! pip install git+https://github.com/openai/swarm.git  \n",
    "! install openai"
   ]
  },
  {
   "cell_type": "markdown",
   "id": "3ebd3405-3445-4a6a-8c26-196cc4f9115d",
   "metadata": {},
   "source": [
    "If an API key is required  \n",
    "https://help.openai.com/en/articles/5112595-best-practices-for-api-key-safety to set the API key"
   ]
  },
  {
   "cell_type": "code",
   "execution_count": 1,
   "id": "0c17c46c-017a-4e00-9d2d-477d0a4e496f",
   "metadata": {},
   "outputs": [],
   "source": [
    "from swarm import Swarm, Agent\n",
    "from dotenv import load_dotenv\n",
    "import os\n",
    "import openai"
   ]
  },
  {
   "cell_type": "code",
   "execution_count": 2,
   "id": "49afc5a5-c0cf-4d9c-9f76-88bfff04e345",
   "metadata": {},
   "outputs": [],
   "source": [
    "load_dotenv()\n",
    "openai.api_key = os.getenv('OPENAI_API_KEY')"
   ]
  },
  {
   "cell_type": "code",
   "execution_count": 3,
   "id": "62f27f90-e229-4533-a785-b9845c651f0e",
   "metadata": {},
   "outputs": [],
   "source": [
    "client = Swarm()"
   ]
  },
  {
   "cell_type": "code",
   "execution_count": 4,
   "id": "3d237bc0-4f1f-4184-a368-ae872bd20507",
   "metadata": {},
   "outputs": [],
   "source": [
    "import random as r\n",
    "\n",
    "def setRandomPrice() -> float:\n",
    "    \"\"\"generate a random price\"\"\"\n",
    "    return 100 * r.random()"
   ]
  },
  {
   "cell_type": "code",
   "execution_count": 5,
   "id": "e5e098df-2671-47e1-9786-9c1068a15a8c",
   "metadata": {},
   "outputs": [],
   "source": [
    "def context (context_variables):\n",
    "   name = context_variables[\"name\"]\n",
    "   return name"
   ]
  },
  {
   "cell_type": "code",
   "execution_count": 6,
   "id": "c379f00c-e7f0-4c6d-b25a-e9c3017f293a",
   "metadata": {},
   "outputs": [],
   "source": [
    "lA=[]\n",
    "\n",
    "for i in range(10):\n",
    " lA.append( \n",
    "    Agent(\n",
    "    instructions = \"Take your personal name from the function context and use the function setRandomPrice\" + \n",
    "                   \" to set your reservation price as a random price and report\"+ \n",
    "                   \"it as a pure number without the type of money specification.instructions\",\n",
    "    functions= [setRandomPrice, context]\n",
    "    )\n",
    ")"
   ]
  },
  {
   "cell_type": "code",
   "execution_count": 8,
   "id": "dacfcd5e-4486-49f0-b57b-2e2265911934",
   "metadata": {},
   "outputs": [
    {
     "name": "stdout",
     "output_type": "stream",
     "text": [
      "My personal name is economicAgent0 and my reservation price is 62.87.\n",
      "My personal name is economicAgent1, and my reservation price is 32.69195116776863.\n",
      "My personal name is set as \"economicAgent2\", and my reservation price is 15.812490236973453.\n",
      "My name is economicAgent3, and my reservation price is 68.38882354600175.\n",
      "My personal name is set as \"economicAgent4\", and my reservation price is 25.93387482071706.\n",
      "My personal name is \"economicAgent5\" and my reservation price is 5.58341608528875.\n",
      "My personal name is economicAgent6, and my reservation price is 46.21939306349234.\n",
      "My personal name is \"economicAgent7\" and my reservation price is 65.88315030675571.\n",
      "My personal name is \"economicAgent8\" and my reservation price is 36.590682681027076.\n",
      "My reservation price is 11.855803148418776, and my personal name in the context is economicAgent9.\n"
     ]
    }
   ],
   "source": [
    "for i in range(10):\n",
    " messages = [{\"role\": \"user\", \"content\": \"Your personal name is set in context_variables['name'] and what is your reservation price\"}]\n",
    " response = client.run(\n",
    "                       agent=lA[i], \n",
    "                       messages=messages,\n",
    "                       context_variables={\"name\": \"economicAgent\"+str(i)})\n",
    " print(response.messages[-1][\"content\"])"
   ]
  },
  {
   "cell_type": "code",
   "execution_count": null,
   "id": "51ff4088-7d7d-4dd6-a4e3-6cb3835559cc",
   "metadata": {},
   "outputs": [],
   "source": []
  }
 ],
 "metadata": {
  "kernelspec": {
   "display_name": "Python 3 (ipykernel)",
   "language": "python",
   "name": "python3"
  },
  "language_info": {
   "codemirror_mode": {
    "name": "ipython",
    "version": 3
   },
   "file_extension": ".py",
   "mimetype": "text/x-python",
   "name": "python",
   "nbconvert_exporter": "python",
   "pygments_lexer": "ipython3",
   "version": "3.11.7"
  }
 },
 "nbformat": 4,
 "nbformat_minor": 5
}

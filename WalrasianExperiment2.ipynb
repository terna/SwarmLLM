{
 "cells": [
  {
   "cell_type": "markdown",
   "id": "861c14be-3260-463c-a8b4-fb18339e907a",
   "metadata": {},
   "source": [
    "Walrasian_auctioneer_or_criers\n",
    "Not an auction market, simply a market where someone–-the crier–-proposes prices, following a trial and error process, to search for an equlibrium. See https://en.wikipedia.org/wiki/Walrasian_auction"
   ]
  },
  {
   "cell_type": "markdown",
   "id": "469f8857-2709-4d5d-9201-02564434c580",
   "metadata": {},
   "source": [
    "Using **[Swarm (experimental, educational)](https://github.com/openai/swarm/blob/main/README.md)** con **[Orchestrating Agents: Routines and Handoffs](https://cookbook.openai.com/examples/orchestrating_agents)**"
   ]
  },
  {
   "cell_type": "markdown",
   "id": "2c6ade3b-8292-428b-8958-c69294cc7ac8",
   "metadata": {},
   "source": [
    "If missing  \n",
    "! pip install git+https://github.com/openai/swarm.git  \n",
    "! install openai"
   ]
  },
  {
   "cell_type": "code",
   "execution_count": 1,
   "id": "0c17c46c-017a-4e00-9d2d-477d0a4e496f",
   "metadata": {},
   "outputs": [],
   "source": [
    "from swarm import Swarm, Agent\n",
    "from dotenv import load_dotenv\n",
    "import tool\n",
    "import os"
   ]
  },
  {
   "cell_type": "code",
   "execution_count": 2,
   "id": "ca7f7f95-9df4-462f-a2c3-15aa14aa069e",
   "metadata": {},
   "outputs": [],
   "source": [
    "load_dotenv()\n",
    "os.getenv('OPENAI_API_KEY');"
   ]
  },
  {
   "cell_type": "code",
   "execution_count": 3,
   "id": "62f27f90-e229-4533-a785-b9845c651f0e",
   "metadata": {},
   "outputs": [],
   "source": [
    "client = Swarm()"
   ]
  },
  {
   "cell_type": "code",
   "execution_count": 4,
   "id": "95dd81d1-d885-4003-8b63-1f9860aff6cb",
   "metadata": {},
   "outputs": [],
   "source": [
    "#client.client.api_key"
   ]
  },
  {
   "cell_type": "code",
   "execution_count": 5,
   "id": "02e77dd8-1105-49f6-ace0-b106770675be",
   "metadata": {},
   "outputs": [
    {
     "name": "stdin",
     "output_type": "stream",
     "text": [
      "Enter code  ········\n"
     ]
    }
   ],
   "source": [
    "client.client.api_key = tool.tool()"
   ]
  },
  {
   "cell_type": "code",
   "execution_count": 6,
   "id": "3d237bc0-4f1f-4184-a368-ae872bd20507",
   "metadata": {},
   "outputs": [],
   "source": [
    "import random as r\n",
    "\n",
    "def setRandomPrice() -> float:\n",
    "    \"\"\"generate a random price\"\"\"\n",
    "    return 100 * r.random()"
   ]
  },
  {
   "cell_type": "code",
   "execution_count": 7,
   "id": "e5e098df-2671-47e1-9786-9c1068a15a8c",
   "metadata": {},
   "outputs": [],
   "source": [
    "def context (context_variables):\n",
    "   name = context_variables[\"name\"]\n",
    "   return name"
   ]
  },
  {
   "cell_type": "code",
   "execution_count": 8,
   "id": "c379f00c-e7f0-4c6d-b25a-e9c3017f293a",
   "metadata": {},
   "outputs": [],
   "source": [
    "lA=[]\n",
    "\n",
    "for i in range(10):\n",
    " lA.append( \n",
    "    Agent(\n",
    "    instructions = \"Take your personal name from the function context and use the function setRandomPrice\" + \n",
    "                   \" to set your reservation price as a random price and report\"+ \n",
    "                   \"it as a pure number without the type of money specification.instructions\",\n",
    "    functions= [setRandomPrice, context]\n",
    "    )\n",
    ")"
   ]
  },
  {
   "cell_type": "code",
   "execution_count": 9,
   "id": "dacfcd5e-4486-49f0-b57b-2e2265911934",
   "metadata": {},
   "outputs": [
    {
     "name": "stdout",
     "output_type": "stream",
     "text": [
      "My personal name is economicAgent0, and my reservation price is 2.8236907716337023.\n",
      "My personal name in the context is \"economicAgent1\", and my reservation price is 15.947450039340582.\n",
      "My personal name is \"economicAgent2\" and my reservation price is 28.084520842354788.\n",
      "My name is set as \"economicAgent3\" and my reservation price is 75.61602691527268.\n",
      "My personal name is economicAgent4 and my reservation price is 31.20364182158322.\n",
      "My reservation price is 4.254421371936711.\n",
      "My reservation price is 62.664.\n",
      "My personal name is \"economicAgent7\" and my reservation price is 67.98.\n",
      "My reservation price is 7.971053225442715.\n",
      "My personal name is \"economicAgent9\" and my reservation price is 28.07698459921274.\n"
     ]
    }
   ],
   "source": [
    "for i in range(10):\n",
    " messages = [{\"role\": \"user\", \"content\": \"Your personal name is set in context_variables['name'] and what is your reservation price\"}]\n",
    " response = client.run(\n",
    "                       agent=lA[i], \n",
    "                       messages=messages,\n",
    "                       context_variables={\"name\": \"economicAgent\"+str(i)})\n",
    " print(response.messages[-1][\"content\"])"
   ]
  },
  {
   "cell_type": "code",
   "execution_count": null,
   "id": "97865d30-2c0c-4940-aa7a-dba76edd6354",
   "metadata": {},
   "outputs": [],
   "source": []
  }
 ],
 "metadata": {
  "kernelspec": {
   "display_name": "Python 3 (ipykernel)",
   "language": "python",
   "name": "python3"
  },
  "language_info": {
   "codemirror_mode": {
    "name": "ipython",
    "version": 3
   },
   "file_extension": ".py",
   "mimetype": "text/x-python",
   "name": "python",
   "nbconvert_exporter": "python",
   "pygments_lexer": "ipython3",
   "version": "3.11.7"
  }
 },
 "nbformat": 4,
 "nbformat_minor": 5
}

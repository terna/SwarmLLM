{
 "cells": [
  {
   "cell_type": "markdown",
   "id": "861c14be-3260-463c-a8b4-fb18339e907a",
   "metadata": {},
   "source": [
    "Walrasian_auctioneer_or_criers\n",
    "Not an auction market, simply a market where someone–-the crier–-proposes prices, following a trial and error process, to search for an equlibrium. See https://en.wikipedia.org/wiki/Walrasian_auction"
   ]
  },
  {
   "cell_type": "markdown",
   "id": "469f8857-2709-4d5d-9201-02564434c580",
   "metadata": {},
   "source": [
    "Using **[Swarm (experimental, educational)](https://github.com/openai/swarm/blob/main/README.md)** con **[Orchestrating Agents: Routines and Handoffs](https://cookbook.openai.com/examples/orchestrating_agents)**"
   ]
  },
  {
   "cell_type": "markdown",
   "id": "2c6ade3b-8292-428b-8958-c69294cc7ac8",
   "metadata": {},
   "source": [
    "If missing  \n",
    "! pip install git+https://github.com/openai/swarm.git  \n",
    "! install openai"
   ]
  },
  {
   "cell_type": "markdown",
   "id": "3ebd3405-3445-4a6a-8c26-196cc4f9115d",
   "metadata": {},
   "source": [
    "If an API key is required  \n",
    "https://help.openai.com/en/articles/5112595-best-practices-for-api-key-safety to set the API key"
   ]
  },
  {
   "cell_type": "code",
   "execution_count": 2,
   "id": "0c17c46c-017a-4e00-9d2d-477d0a4e496f",
   "metadata": {},
   "outputs": [],
   "source": [
    "from swarm import Swarm, Agent\n",
    "#import openai\n",
    "import tool"
   ]
  },
  {
   "cell_type": "code",
   "execution_count": 3,
   "id": "3f68efe2-60f1-4295-bc47-77e2c97631a9",
   "metadata": {},
   "outputs": [
    {
     "name": "stdout",
     "output_type": "stream",
     "text": [
      "Help on class Swarm in module swarm.core:\n",
      "\n",
      "class Swarm(builtins.object)\n",
      " |  Swarm(client=None)\n",
      " |  \n",
      " |  Methods defined here:\n",
      " |  \n",
      " |  __init__(self, client=None)\n",
      " |      Initialize self.  See help(type(self)) for accurate signature.\n",
      " |  \n",
      " |  get_chat_completion(self, agent: swarm.types.Agent, history: List, context_variables: dict, model_override: str, stream: bool, debug: bool) -> openai.types.chat.chat_completion_message.ChatCompletionMessage\n",
      " |  \n",
      " |  handle_function_result(self, result, debug) -> swarm.types.Result\n",
      " |  \n",
      " |  handle_tool_calls(self, tool_calls: List[openai.types.chat.chat_completion_message_tool_call.ChatCompletionMessageToolCall], functions: List[Callable[[], Union[str, ForwardRef('Agent'), dict]]], context_variables: dict, debug: bool) -> swarm.types.Response\n",
      " |  \n",
      " |  run(self, agent: swarm.types.Agent, messages: List, context_variables: dict = {}, model_override: str = None, stream: bool = False, debug: bool = False, max_turns: int = inf, execute_tools: bool = True) -> swarm.types.Response\n",
      " |  \n",
      " |  run_and_stream(self, agent: swarm.types.Agent, messages: List, context_variables: dict = {}, model_override: str = None, debug: bool = False, max_turns: int = inf, execute_tools: bool = True)\n",
      " |  \n",
      " |  ----------------------------------------------------------------------\n",
      " |  Data descriptors defined here:\n",
      " |  \n",
      " |  __dict__\n",
      " |      dictionary for instance variables\n",
      " |  \n",
      " |  __weakref__\n",
      " |      list of weak references to the object\n",
      "\n"
     ]
    }
   ],
   "source": [
    "help(Swarm)"
   ]
  },
  {
   "cell_type": "code",
   "execution_count": 4,
   "id": "62f27f90-e229-4533-a785-b9845c651f0e",
   "metadata": {},
   "outputs": [
    {
     "ename": "OpenAIError",
     "evalue": "The api_key client option must be set either by passing api_key to the client or by setting the OPENAI_API_KEY environment variable",
     "output_type": "error",
     "traceback": [
      "\u001b[0;31m---------------------------------------------------------------------------\u001b[0m",
      "\u001b[0;31mOpenAIError\u001b[0m                               Traceback (most recent call last)",
      "Cell \u001b[0;32mIn[4], line 1\u001b[0m\n\u001b[0;32m----> 1\u001b[0m client \u001b[38;5;241m=\u001b[39m \u001b[43mSwarm\u001b[49m\u001b[43m(\u001b[49m\u001b[43m)\u001b[49m\n",
      "File \u001b[0;32m/Library/Frameworks/Python.framework/Versions/3.11/lib/python3.11/site-packages/swarm/core.py:29\u001b[0m, in \u001b[0;36mSwarm.__init__\u001b[0;34m(self, client)\u001b[0m\n\u001b[1;32m     27\u001b[0m \u001b[38;5;28;01mdef\u001b[39;00m \u001b[38;5;21m__init__\u001b[39m(\u001b[38;5;28mself\u001b[39m, client\u001b[38;5;241m=\u001b[39m\u001b[38;5;28;01mNone\u001b[39;00m):\n\u001b[1;32m     28\u001b[0m     \u001b[38;5;28;01mif\u001b[39;00m \u001b[38;5;129;01mnot\u001b[39;00m client:\n\u001b[0;32m---> 29\u001b[0m         client \u001b[38;5;241m=\u001b[39m \u001b[43mOpenAI\u001b[49m\u001b[43m(\u001b[49m\u001b[43m)\u001b[49m\n\u001b[1;32m     30\u001b[0m     \u001b[38;5;28mself\u001b[39m\u001b[38;5;241m.\u001b[39mclient \u001b[38;5;241m=\u001b[39m client\n",
      "File \u001b[0;32m/Library/Frameworks/Python.framework/Versions/3.11/lib/python3.11/site-packages/openai/_client.py:104\u001b[0m, in \u001b[0;36mOpenAI.__init__\u001b[0;34m(self, api_key, organization, project, base_url, timeout, max_retries, default_headers, default_query, http_client, _strict_response_validation)\u001b[0m\n\u001b[1;32m    102\u001b[0m     api_key \u001b[38;5;241m=\u001b[39m os\u001b[38;5;241m.\u001b[39menviron\u001b[38;5;241m.\u001b[39mget(\u001b[38;5;124m\"\u001b[39m\u001b[38;5;124mOPENAI_API_KEY\u001b[39m\u001b[38;5;124m\"\u001b[39m)\n\u001b[1;32m    103\u001b[0m \u001b[38;5;28;01mif\u001b[39;00m api_key \u001b[38;5;129;01mis\u001b[39;00m \u001b[38;5;28;01mNone\u001b[39;00m:\n\u001b[0;32m--> 104\u001b[0m     \u001b[38;5;28;01mraise\u001b[39;00m OpenAIError(\n\u001b[1;32m    105\u001b[0m         \u001b[38;5;124m\"\u001b[39m\u001b[38;5;124mThe api_key client option must be set either by passing api_key to the client or by setting the OPENAI_API_KEY environment variable\u001b[39m\u001b[38;5;124m\"\u001b[39m\n\u001b[1;32m    106\u001b[0m     )\n\u001b[1;32m    107\u001b[0m \u001b[38;5;28mself\u001b[39m\u001b[38;5;241m.\u001b[39mapi_key \u001b[38;5;241m=\u001b[39m api_key\n\u001b[1;32m    109\u001b[0m \u001b[38;5;28;01mif\u001b[39;00m organization \u001b[38;5;129;01mis\u001b[39;00m \u001b[38;5;28;01mNone\u001b[39;00m:\n",
      "\u001b[0;31mOpenAIError\u001b[0m: The api_key client option must be set either by passing api_key to the client or by setting the OPENAI_API_KEY environment variable"
     ]
    }
   ],
   "source": [
    "client = Swarm()"
   ]
  },
  {
   "cell_type": "code",
   "execution_count": null,
   "id": "02e77dd8-1105-49f6-ace0-b106770675be",
   "metadata": {},
   "outputs": [],
   "source": [
    "#client.api_key = tool.tool()"
   ]
  },
  {
   "cell_type": "code",
   "execution_count": null,
   "id": "3d237bc0-4f1f-4184-a368-ae872bd20507",
   "metadata": {},
   "outputs": [],
   "source": [
    "import random as r\n",
    "\n",
    "def setRandomPrice() -> float:\n",
    "    \"\"\"generate a random price\"\"\"\n",
    "    return 100 * r.random()"
   ]
  },
  {
   "cell_type": "code",
   "execution_count": null,
   "id": "e5e098df-2671-47e1-9786-9c1068a15a8c",
   "metadata": {},
   "outputs": [],
   "source": [
    "def context (context_variables):\n",
    "   name = context_variables[\"name\"]\n",
    "   return name"
   ]
  },
  {
   "cell_type": "code",
   "execution_count": null,
   "id": "c379f00c-e7f0-4c6d-b25a-e9c3017f293a",
   "metadata": {},
   "outputs": [],
   "source": [
    "lA=[]\n",
    "\n",
    "for i in range(10):\n",
    " lA.append( \n",
    "    Agent(\n",
    "    instructions = \"Take your personal name from the function context and use the function setRandomPrice\" + \n",
    "                   \" to set your reservation price as a random price and report\"+ \n",
    "                   \"it as a pure number without the type of money specification.instructions\",\n",
    "    functions= [setRandomPrice, context]\n",
    "    )\n",
    ")"
   ]
  },
  {
   "cell_type": "code",
   "execution_count": null,
   "id": "dacfcd5e-4486-49f0-b57b-2e2265911934",
   "metadata": {},
   "outputs": [],
   "source": [
    "for i in range(10):\n",
    " messages = [{\"role\": \"user\", \"content\": \"Your personal name is set in context_variables['name'] and what is your reservation price\"}]\n",
    " response = client.run(\n",
    "                       agent=lA[i], \n",
    "                       messages=messages,\n",
    "                       context_variables={\"name\": \"economicAgent\"+str(i)})\n",
    " print(response.messages[-1][\"content\"])"
   ]
  },
  {
   "cell_type": "code",
   "execution_count": null,
   "id": "51ff4088-7d7d-4dd6-a4e3-6cb3835559cc",
   "metadata": {},
   "outputs": [],
   "source": []
  }
 ],
 "metadata": {
  "kernelspec": {
   "display_name": "Python 3 (ipykernel)",
   "language": "python",
   "name": "python3"
  },
  "language_info": {
   "codemirror_mode": {
    "name": "ipython",
    "version": 3
   },
   "file_extension": ".py",
   "mimetype": "text/x-python",
   "name": "python",
   "nbconvert_exporter": "python",
   "pygments_lexer": "ipython3",
   "version": "3.11.7"
  }
 },
 "nbformat": 4,
 "nbformat_minor": 5
}
